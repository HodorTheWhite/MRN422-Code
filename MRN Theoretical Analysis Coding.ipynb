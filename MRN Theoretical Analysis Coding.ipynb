{
 "cells": [
  {
   "cell_type": "markdown",
   "metadata": {},
   "source": [
    "# Input Parameters"
   ]
  },
  {
   "cell_type": "code",
   "execution_count": 1,
   "metadata": {},
   "outputs": [
    {
     "name": "stdout",
     "output_type": "stream",
     "text": [
      "0.7888263157894737\n"
     ]
    }
   ],
   "source": [
    "#Importing libraries and setting variables to be used in calculations\n",
    "import numpy as np\n",
    "import matplotlib as plt\n",
    "import math as math\n",
    "import sympy as sp\n",
    "%matplotlib qt\n",
    "\n",
    "#Define variables\n",
    "wheelbase = 1.586 #Car-10 is 1.586m\n",
    "track = 1.256 #Car-10 is 1.256m\n",
    "\n",
    "#Inner and outer wheel steering angle in degrees\n",
    "iwsa = 43\n",
    "owsa = 30\n",
    "\n",
    "#Conversion from degrees to radians\n",
    "sigma_i = np.deg2rad(iwsa)\n",
    "sigma_o = np.deg2rad(owsa)\n",
    "\n",
    "#x,y co-ordinates of each wheel\n",
    "fr = np.array([track/2,wheelbase])\n",
    "fl = np.array([-track/2,wheelbase])\n",
    "rr = np.array([track/2,0])\n",
    "rl = np.array([-track/2,0])\n",
    "\n",
    "#x,y co-ordinates of front and rear axle centres\n",
    "fc = np.array([0,wheelbase])\n",
    "rc = np.array([0,0])\n",
    "\n",
    "#Position for centre of gravity\n",
    "#Assume 50:50 weight distribution until further information is available\n",
    "a = (189/380)*wheelbase\n",
    "cg = np.array([0,a])\n",
    "print(a)\n",
    "\n",
    "OL = np.array([(-wheelbase/(np.tan(sigma_i)))-(track/2),0])\n",
    "OR = np.array([-1*(wheelbase/(np.tan(sigma_o)))+(track/2),0])\n",
    "\n",
    "rollrad = 0.27 #Rolling radius in m"
   ]
  },
  {
   "cell_type": "markdown",
   "metadata": {},
   "source": [
    "# Turning Radius Based on Ackermann Geometry Assuming Full Ackerman"
   ]
  },
  {
   "cell_type": "code",
   "execution_count": 2,
   "metadata": {},
   "outputs": [
    {
     "name": "stdout",
     "output_type": "stream",
     "text": [
      "28.21  degrees should be the steering angle on the outer wheel for an Ackermann approximation\n",
      "34.26  degrees is the Ackermann angle for the current steering angles\n",
      "2.46 m, is the calculated theoretical turing radius\n"
     ]
    }
   ],
   "source": [
    "#For this mode of analysis full Ackermann geometry is assumed and the outer\n",
    "#steering angle and turning radius is calculated using\n",
    "\n",
    "import numpy as np\n",
    "import matplotlib.pyplot as plt\n",
    "import matplotlib.patches as patches \n",
    "import math as math\n",
    "\n",
    "plt.figure(figsize=(10, 6))\n",
    "ax = plt.gca()\n",
    "ax.set_aspect('equal', adjustable='box')\n",
    "\n",
    "plt.text(fr[0],fr[1],'FR',fontsize=12)\n",
    "plt.text(fl[0],fl[1],'FL',fontsize=12)\n",
    "plt.text(rr[0],rr[1],'RR',fontsize=12)\n",
    "plt.text(rl[0],rl[1],'RL',fontsize=12)\n",
    "\n",
    "plt.text(fc[0],fc[1],'FC',fontsize=12)\n",
    "plt.text(rc[0],rc[1],'RC',fontsize=12)\n",
    "\n",
    "plt.text(cg[0],cg[1],'CG',fontsize=12)\n",
    "\n",
    "plt.text(OL[0],OL[1],'O',fontsize=12)\n",
    "\n",
    "sigma_A = np.arctan(fr[1]/(-1*OL[0]+fr[0]))\n",
    "owsa_A = np.rad2deg(sigma_A)\n",
    "print(round(owsa_A,2),' degrees should be the steering angle on the outer wheel for an Ackermann approximation')\n",
    "      \n",
    "frw = patches.Rectangle((fr[0]-0.05*np.cos(sigma_A)+0.15*np.cos(np.pi/2-sigma_A),fr[1]-0.05*np.sin(sigma_A)-0.15*np.sin(np.pi/2-sigma_A)), 0.1, 0.3, angle=owsa_A,edgecolor='red',facecolor='none')\n",
    "flw = patches.Rectangle((fl[0]-0.05*np.cos(sigma_i)+0.15*np.cos(np.pi/2-sigma_i),fl[1]-0.05*np.sin(sigma_i)-0.15*np.sin(np.pi/2-sigma_i)), 0.1, 0.3, angle=iwsa,edgecolor='red',facecolor='none')\n",
    "rrw = patches.Rectangle((rr[0]-0.05,rr[1]-0.15), 0.1, 0.3, angle=0.0,edgecolor='red',facecolor='none')\n",
    "rlw = patches.Rectangle((rl[0]-0.05,rl[1]-0.15), 0.1, 0.3, angle=0.0,edgecolor='red',facecolor='none')\n",
    "\n",
    "\n",
    "ax.add_patch(frw)\n",
    "ax.add_patch(flw)\n",
    "ax.add_patch(rrw)\n",
    "ax.add_patch(rlw)\n",
    "\n",
    "plt.plot([fl[0], fr[0]], [fr[1], fl[1]], 'g-') \n",
    "plt.plot([rl[0], rr[0]], [rr[1], rl[1]], 'g-')\n",
    "plt.plot([rc[0], fc[0]], [rc[1], fc[1]], 'g-')\n",
    "plt.plot([fl[0], OL[0]], [fl[1], OL[1]], 'b-')\n",
    "plt.plot([fr[0], OL[0]], [fr[1], OL[1]], 'b-')\n",
    "plt.plot([cg[0], OL[0]], [cg[1], OL[1]], 'b-')\n",
    "plt.plot([rc[0], OL[0]], [rc[1], OL[1]], 'b-')  \n",
    "\n",
    "AckAngle = np.arctan(1/(((1/(np.tan(sigma_A)))+(1/(np.tan(sigma_i))))/2))\n",
    "TR = math.sqrt(cg[1]**2+wheelbase**2*(1/(np.tan(AckAngle)**2)))\n",
    "print(round(np.rad2deg(AckAngle),2),' degrees is the Ackermann angle for the current steering angles')\n",
    "print(round(TR,2), 'm, is the calculated theoretical turing radius')\n",
    "\n",
    "plt.xlabel(\"X (Lateral distance in meters)\")\n",
    "plt.ylabel(\"Y (Longitudinal distance in meters)\")\n",
    "plt.title('Ackermann Geometry and Turning Radius of TuksBaja Vehicle With Approximated Ackermann Geometry')\n",
    "plt.grid(True)\n",
    "plt.show()\n"
   ]
  },
  {
   "cell_type": "markdown",
   "metadata": {},
   "source": [
    "# Turning Radius Based on Ackermann Geometry Using Two inputs"
   ]
  },
  {
   "cell_type": "code",
   "execution_count": 3,
   "metadata": {
    "scrolled": true
   },
   "outputs": [
    {
     "name": "stdout",
     "output_type": "stream",
     "text": [
      "35.49  degrees is the Ackermann angle for the current steering angles\n",
      "2.36 m, is the calculated theoretical turing radius\n"
     ]
    }
   ],
   "source": [
    "#Turning radius calculated using the basic Ackermann geometry\n",
    "import numpy as np\n",
    "import matplotlib.pyplot as plt\n",
    "import matplotlib.patches as patches \n",
    "\n",
    "%matplotlib qt\n",
    "\n",
    "#Faster way to edit the outer wheel steering angle when needed\n",
    "iwsa = 43\n",
    "owsa = 30\n",
    "sigma_i = np.deg2rad(iwsa)\n",
    "sigma_o = np.deg2rad(owsa)\n",
    "\n",
    "plt.figure(figsize=(10, 6))\n",
    "ax = plt.gca()\n",
    "ax.set_aspect('equal', adjustable='box')\n",
    "\n",
    "plt.text(fr[0],fr[1],'FR',fontsize=12)\n",
    "plt.text(fl[0],fl[1],'FL',fontsize=12)\n",
    "plt.text(rr[0],rr[1],'RR',fontsize=12)\n",
    "plt.text(rl[0],rl[1],'RL',fontsize=12)\n",
    "\n",
    "plt.text(fc[0],fc[1],'FC',fontsize=12)\n",
    "plt.text(rc[0],rc[1],'RC',fontsize=12)\n",
    "\n",
    "plt.text(cg[0],cg[1],'CG',fontsize=12)\n",
    "\n",
    "frw = patches.Rectangle((fr[0]-0.05*np.cos(sigma_o)+0.15*np.cos(np.pi/2-sigma_o),fr[1]-0.05*np.sin(sigma_o)-0.15*np.sin(np.pi/2-sigma_o)), 0.1, 0.3, angle=owsa,edgecolor='red',facecolor='none')\n",
    "flw = patches.Rectangle((fl[0]-0.05*np.cos(sigma_i)+0.15*np.cos(np.pi/2-sigma_i),fl[1]-0.05*np.sin(sigma_i)-0.15*np.sin(np.pi/2-sigma_i)), 0.1, 0.3, angle=iwsa,edgecolor='red',facecolor='none')\n",
    "rrw = patches.Rectangle((rr[0]-0.05,rr[1]-0.15), 0.1, 0.3, angle=0.0,edgecolor='red',facecolor='none')\n",
    "rlw = patches.Rectangle((rl[0]-0.05,rl[1]-0.15), 0.1, 0.3, angle=0.0,edgecolor='red',facecolor='none')\n",
    "\n",
    "ax.add_patch(frw)\n",
    "ax.add_patch(flw)\n",
    "ax.add_patch(rrw)\n",
    "ax.add_patch(rlw)\n",
    "\n",
    "AckAngle = np.arctan(1/(((1/(np.tan(sigma_o)))+(1/(np.tan(sigma_i))))/2))\n",
    "TR = math.sqrt(cg[1]**2+wheelbase**2*(1/(np.tan(AckAngle)**2)))\n",
    "print(round(np.rad2deg(AckAngle),2),' degrees is the Ackermann angle for the current steering angles')\n",
    "print(round(TR,2), 'm, is the calculated theoretical turing radius')\n",
    "\n",
    "OL = np.array([(-wheelbase/(np.tan(sigma_i)))-(track/2),0])\n",
    "OR = np.array([-1*(wheelbase/(np.tan(sigma_o)))+(track/2),0])\n",
    "OC = np.array([-1*(fc[1]/(np.tan(AckAngle))),0])\n",
    "\n",
    "plt.text(OL[0],OL[1],'OL',fontsize=12)\n",
    "plt.text(OR[0],OR[1],'OR',fontsize=12)\n",
    "\n",
    "plt.plot([fl[0], fr[0]], [fr[1], fl[1]], 'g-') \n",
    "plt.plot([rl[0], rr[0]], [rr[1], rl[1]], 'g-')\n",
    "plt.plot([rc[0], fc[0]], [rc[1], fc[1]], 'g-')\n",
    "plt.plot([fl[0], OL[0]], [fl[1], OL[1]], 'b-')\n",
    "plt.plot([fr[0], OR[0]], [fr[1], OR[1]], 'b-')\n",
    "plt.plot([cg[0], OC[0]], [cg[1], OC[1]], 'b-')\n",
    "plt.plot([rc[0], OR[0]], [rc[1], OR[1]], 'b-')  \n",
    "plt.plot([rc[0], OL[0]], [rc[1], OL[1]], 'b-') \n",
    "\n",
    "plt.xlabel('X')\n",
    "plt.ylabel('Y')\n",
    "plt.title('Ackermann Geometry and Turning Radius of Car-10 Polaris CV Implementation With Percentage Ackermann')\n",
    "plt.grid(True)\n",
    "plt.show()\n"
   ]
  },
  {
   "cell_type": "markdown",
   "metadata": {},
   "source": [
    "# Percentage Ackermann for Current Config"
   ]
  },
  {
   "cell_type": "code",
   "execution_count": 4,
   "metadata": {},
   "outputs": [
    {
     "name": "stdout",
     "output_type": "stream",
     "text": [
      "30.23  percent Ackermann is present in the system\n"
     ]
    }
   ],
   "source": [
    "#The percentage Ackermann caculated for the current steering configuration\n",
    "PercentAckermann = ((iwsa-owsa)/iwsa)*100\n",
    "print(round(PercentAckermann,2),' percent Ackermann is present in the system')"
   ]
  },
  {
   "cell_type": "markdown",
   "metadata": {},
   "source": [
    "# Bicycle Model"
   ]
  },
  {
   "cell_type": "code",
   "execution_count": 5,
   "metadata": {},
   "outputs": [
    {
     "name": "stdout",
     "output_type": "stream",
     "text": [
      "2.26 m is the radius around which the vehicle is turning based on the bicycle model.\n"
     ]
    }
   ],
   "source": [
    "#Updated model that is able to take into account slip angles\n",
    "def bicycle(AckAngle):\n",
    "    plt.figure(figsize=(10, 6))\n",
    "    ax = plt.gca()\n",
    "    ax.set_aspect('equal', adjustable='box')\n",
    "\n",
    "#Set slip angle alpha. In this analysis it will be the same in the front and in the rear\n",
    "    alpha = 10 #Degrees\n",
    "    x_intercept = (-1*fc[1])/(np.tan(AckAngle))\n",
    "    y_intercept = -1*np.tan(np.deg2rad(alpha))*x_intercept\n",
    "    ICR = np.array([x_intercept,y_intercept])\n",
    "\n",
    "    plt.text(fc[0],fc[1],'FC',fontsize=12)\n",
    "    plt.text(rc[0],rc[1],'RC',fontsize=12)\n",
    "    plt.text(ICR[0],ICR[1],'ICR',fontsize=12)\n",
    "    plt.text(cg[0],cg[1],'CG',fontsize=12)\n",
    "\n",
    "    fbw = patches.Rectangle((fc[0]-0.05*np.cos(AckAngle)+0.15*np.cos(np.pi/2-AckAngle),fr[1]-0.05*np.sin(AckAngle)-0.15*np.sin(np.pi/2-AckAngle)), 0.1, 0.3, angle=np.rad2deg(AckAngle),edgecolor='red',facecolor='none')\n",
    "    rbw = patches.Rectangle((rc[0]-0.05,rc[1]-0.15), 0.1, 0.3, angle=0.0,edgecolor='red',facecolor='none')\n",
    "    fsa = patches.Arrow(fc[0], fc[1], -0.5*np.sin(AckAngle-np.deg2rad(alpha)), 0.5*np.cos(AckAngle-np.deg2rad(alpha)), width=0.05, edgecolor='black', facecolor='red')\n",
    "    rsa = patches.Arrow(rc[0], rc[1], 0.5*np.sin(np.deg2rad(alpha)), 0.5*np.cos(AckAngle-np.deg2rad(alpha)), width=0.05, edgecolor='black', facecolor='red')\n",
    "    ax.add_patch(fbw)\n",
    "    ax.add_patch(rbw)\n",
    "    ax.add_patch(fsa)\n",
    "    ax.add_patch(rsa)\n",
    "\n",
    "    plt.plot([fc[0], rc[0]], [fc[1], rc[1]], 'g-') \n",
    "    plt.plot([ICR[0], fc[0]], [ICR[1], fc[1]], 'b-')\n",
    "    plt.plot([ICR[0], rc[0]], [ICR[1], rc[1]], 'b-')\n",
    "    plt.plot([ICR[0], cg[0]], [ICR[1], cg[1]], 'b-')\n",
    "\n",
    "\n",
    "    plt.xlabel('X')\n",
    "    plt.ylabel('Y')\n",
    "    plt.title('Bicycle Model of Car-10 Polaris CV Joint All-Wheel Drive Implementation')\n",
    "    plt.grid(True)\n",
    "    plt.show()\n",
    "    R = R = hypotenuse = math.sqrt((ICR[0])**2 + (cg[1]-ICR[1])**2)\n",
    "    print(round(R,2),'m is the radius around which the vehicle is turning based on the bicycle model.')\n",
    "\n",
    "bicycle(AckAngle)"
   ]
  },
  {
   "cell_type": "markdown",
   "metadata": {},
   "source": [
    "# Projection of real steering angle data"
   ]
  },
  {
   "cell_type": "code",
   "execution_count": 6,
   "metadata": {},
   "outputs": [
    {
     "data": {
      "text/plain": [
       "<function matplotlib.pyplot.show(*args, **kw)>"
      ]
     },
     "execution_count": 6,
     "metadata": {},
     "output_type": "execute_result"
    }
   ],
   "source": [
    "def theta_w(x):\n",
    "    return (0.0043*(x**2) - 0.8466*x -1.6943)\n",
    "acount = np.linspace(-42.23,42.23,1000)\n",
    "\n",
    "plt.figure(figsize=(10, 6))\n",
    "plt.grid('True')\n",
    "plt.plot(acount,theta_w(acount))\n",
    "plt.title('Steering angle against displacement for Polaris RZR800 CV joints')\n",
    "plt.xlabel('Steering rack displacement in mm')\n",
    "plt.ylabel('Steering angle achieved')\n",
    "plt.show"
   ]
  },
  {
   "cell_type": "markdown",
   "metadata": {},
   "source": [
    "# Bicycle model with real steering angles"
   ]
  },
  {
   "cell_type": "code",
   "execution_count": 7,
   "metadata": {},
   "outputs": [
    {
     "data": {
      "application/vnd.jupyter.widget-view+json": {
       "model_id": "5fdab0e5c21c451f9ad20fb3ba908c3e",
       "version_major": 2,
       "version_minor": 0
      },
      "text/plain": [
       "interactive(children=(FloatSlider(value=30.0, description='Steering rack displacement', max=50.0, min=5.0), Ou…"
      ]
     },
     "metadata": {},
     "output_type": "display_data"
    },
    {
     "data": {
      "text/plain": [
       "<function __main__.update_bicycle(x)>"
      ]
     },
     "execution_count": 7,
     "metadata": {},
     "output_type": "execute_result"
    }
   ],
   "source": [
    "import ipywidgets as widgets\n",
    "from ipywidgets import interact\n",
    "\n",
    "def AAngle(x):\n",
    "        sigma_i = np.deg2rad(theta_w(-1*x))\n",
    "        sigma_0 = np.deg2rad(theta_w(x))\n",
    "        AckAngle = np.arctan(1/(((1/(np.tan(sigma_o)))+(1/(np.tan(sigma_i))))/2))\n",
    "        return AckAngle\n",
    "    \n",
    "slider = widgets.FloatSlider(value=30, min=5, max=50, step=0.1, description='Steering rack displacement')\n",
    "\n",
    "def update_bicycle(x):\n",
    "    AckAngle = AAngle(x)\n",
    "    bicycle(AckAngle)\n",
    "    \n",
    "interact(update_bicycle, x=slider)"
   ]
  },
  {
   "cell_type": "markdown",
   "metadata": {},
   "source": [
    "# Bicycle model with turning radius"
   ]
  },
  {
   "cell_type": "code",
   "execution_count": 8,
   "metadata": {},
   "outputs": [
    {
     "name": "stdout",
     "output_type": "stream",
     "text": [
      "2.3 m is the radius around which the vehicle is turning based on the bicycle model.\n"
     ]
    }
   ],
   "source": [
    "def bicycle_C(AckAngle):\n",
    "    plt.figure(figsize=(14, 10))\n",
    "    ax = plt.gca()\n",
    "    ax.set_aspect('equal', adjustable='box')\n",
    "\n",
    "    alpha = 10 #Degrees\n",
    "    x_intercept = (-1*fc[1])/(np.tan(AckAngle))\n",
    "    y_intercept = -1*np.tan(np.deg2rad(alpha))*x_intercept\n",
    "    ICR = np.array([x_intercept,y_intercept])\n",
    "\n",
    "    plt.text(fc[0],fc[1],'FC',fontsize=12)\n",
    "    plt.text(rc[0],rc[1],'RC',fontsize=12)\n",
    "    plt.text(ICR[0],ICR[1],'ICR',fontsize=12)\n",
    "    plt.text(cg[0],cg[1],'CG',fontsize=12)\n",
    "\n",
    "    fbw = patches.Rectangle((fc[0]-0.05*np.cos(AckAngle)+0.15*np.cos(np.pi/2-AckAngle),fr[1]-0.05*np.sin(AckAngle)-0.15*np.sin(np.pi/2-AckAngle)), 0.1, 0.3, angle=np.rad2deg(AckAngle),edgecolor='red',facecolor='none')\n",
    "    rbw = patches.Rectangle((rc[0]-0.05,rc[1]-0.15), 0.1, 0.3, angle=0.0,edgecolor='red',facecolor='none')\n",
    "    fsa = patches.Arrow(fc[0], fc[1], -0.5*np.sin(AckAngle-np.deg2rad(alpha)), 0.5*np.cos(AckAngle-np.deg2rad(alpha)), width=0.05, edgecolor='black', facecolor='red')\n",
    "    rsa = patches.Arrow(rc[0], rc[1], 0.5*np.sin(np.deg2rad(alpha)), 0.5*np.cos(AckAngle-np.deg2rad(alpha)), width=0.05, edgecolor='black', facecolor='red')\n",
    "    ax.add_patch(fbw)\n",
    "    ax.add_patch(rbw)\n",
    "    ax.add_patch(fsa)\n",
    "    ax.add_patch(rsa)\n",
    "\n",
    "    plt.plot([fc[0], rc[0]], [fc[1], rc[1]], 'g-') \n",
    "    plt.plot([ICR[0], fc[0]], [ICR[1], fc[1]], 'b-')\n",
    "    plt.plot([ICR[0], rc[0]], [ICR[1], rc[1]], 'b-')\n",
    "    plt.plot([ICR[0], cg[0]], [ICR[1], cg[1]], 'b-')\n",
    "\n",
    "\n",
    "    R = R = hypotenuse = math.sqrt((ICR[0])**2 + (cg[1]-ICR[1])**2)\n",
    "    \n",
    "    circle = plt.Circle(ICR, R, color='orange', fill=False)\n",
    "    ax.add_artist(circle)\n",
    "\n",
    "    # Adjust the plot limits\n",
    "    ax.set_xlim(ICR[0] - R - 1, ICR[0] + R + 2)\n",
    "    ax.set_ylim(ICR[1] - R - 1, ICR[1] + R + 1)\n",
    "\n",
    "    # Final plot details\n",
    "    plt.xlabel('X')\n",
    "    plt.ylabel('Y')\n",
    "    plt.title('Bicycle Model with Turning Radius Circle')\n",
    "    plt.grid(True)\n",
    "\n",
    "    plt.show()\n",
    "\n",
    "    print(round(R,2),'m is the radius around which the vehicle is turning based on the bicycle model.')\n",
    "\n",
    "    \n",
    "bicycle_C((AAngle(42.2)))"
   ]
  },
  {
   "cell_type": "markdown",
   "metadata": {},
   "source": [
    "# Variables and Parameters for Understeer Coefficients"
   ]
  },
  {
   "attachments": {
    "%7B281C22D2-8391-430F-993E-D7284CD78FAE%7D.png": {
     "image/png": "[encoded data removed]"
    }
   },
   "cell_type": "markdown",
   "metadata": {},
   "source": [
    "![%7B281C22D2-8391-430F-993E-D7284CD78FAE%7D.png](attachment:%7B281C22D2-8391-430F-993E-D7284CD78FAE%7D.png)"
   ]
  },
  {
   "cell_type": "code",
   "execution_count": 74,
   "metadata": {},
   "outputs": [],
   "source": [
    "L = wheelbase\n",
    "g = 9.81 #m/s^2\n",
    "R = 5+(track/2) #m\n",
    "mf = 191 #kg\n",
    "mr = 189 #kg\n",
    "hcg = 0.578 #m\n",
    "hrcf = 0.219 #m\n",
    "hrcr = 0.161 #m\n",
    "Wf = mf*g\n",
    "Wr = mr*g\n",
    "\n",
    "Calphaf = -1*(2.475E-5)*(Wf/2)**2 + 0.1971*(Wf/2) - 10.3 \n",
    "Calphar = -1*(2.518E-5)*(Wr/2)**2 + 0.198*(Wr/2) - 10.31\n",
    "\n",
    "bf = -2.475E-5\n",
    "br = -2.518E-5\n",
    "def delta_F_get(V):\n",
    "    Al = (V**2)/(g*R)\n",
    "    deltaFzf = (mf*Al*(hcg-hrcf)+mf*Al*hrcf)/(track/2) #N\n",
    "    deltaFzr = (mr*Al*(hcg-hrcr)+mr*Al*hrcr)/(track/2) #N\n",
    "    return deltaFzf, deltaFzr"
   ]
  },
  {
   "cell_type": "markdown",
   "metadata": {},
   "source": [
    "# Understeer Coefficient: Cornering Stiffness"
   ]
  },
  {
   "cell_type": "code",
   "execution_count": 75,
   "metadata": {},
   "outputs": [
    {
     "name": "stdout",
     "output_type": "stream",
     "text": [
      "Kcs is:  0.046319117041099034  [deg/g]\n"
     ]
    }
   ],
   "source": [
    "import sympy as sp\n",
    "\n",
    "delta, V = sp.symbols('delta V')\n",
    "Kcs_eq = sp.Eq(57.3*(L/R)+((Wf*V**2)/(Calphaf*g*R))-((Wr*V**2)/(Calphar*g*R)),delta)\n",
    "solution = sp.solve(Kcs_eq, delta)[0]\n",
    "\n",
    "deltalist = []\n",
    "vlist = np.arange(0, 10, 0.1)\n",
    "for v in vlist:\n",
    "    delta_value = solution.subs(V, v)\n",
    "    deltalist.append(float(delta_value))\n",
    "\n",
    "plt.figure(figsize=(14, 10))\n",
    "plt.plot(vlist, deltalist, label=\"Ackermann Angle (Delta)\")\n",
    "plt.xlabel(\"Velocity (m/s)\")\n",
    "plt.ylabel(\"Ackermann Angle (Delta in degrees)\")\n",
    "plt.title(\"Ackermann Angle vs Velocity\")\n",
    "plt.grid(True)\n",
    "plt.legend()\n",
    "plt.show()\n",
    "\n",
    "#Basic understeer coefficient is:\n",
    "Kcs = (Wf/Calphaf - Wr/Calphar)\n",
    "print('Kcs is: ',Kcs,' [deg/g]')"
   ]
  },
  {
   "cell_type": "markdown",
   "metadata": {},
   "source": [
    "# Understeer Coefficient: Lateral Load Transfer"
   ]
  },
  {
   "attachments": {
    "image.png": {
     "image/png": "[encoded data removed]"
    }
   },
   "cell_type": "markdown",
   "metadata": {},
   "source": [
    "![image.png](attachment:image.png)"
   ]
  },
  {
   "cell_type": "code",
   "execution_count": 76,
   "metadata": {},
   "outputs": [
    {
     "name": "stdout",
     "output_type": "stream",
     "text": [
      "Kllt is:  -0.060516939594475794  [deg/g]\n"
     ]
    }
   ],
   "source": [
    "deltaFzf, deltaFzr = delta_F_get(6)\n",
    "Kllt = ((Wf*2*bf*deltaFzf**2)/Calphaf) - ((Wr*2*br*deltaFzr**2)/Calphar)\n",
    "print('Kllt is: ',Kllt,' [deg/g]')"
   ]
  },
  {
   "cell_type": "code",
   "execution_count": 77,
   "metadata": {},
   "outputs": [],
   "source": [
    "vlist = np.arange(0, 10, 0.1)\n",
    "Fzflist = []\n",
    "Fzrlist = []\n",
    "Klltlist = []\n",
    "for v in vlist:\n",
    "    deltaFzf, deltaFzr = delta_F_get(v)\n",
    "    Fzflist.append(deltaFzf)\n",
    "    Fzrlist.append(deltaFzr)\n",
    "    Kllt = (Wf*2*bf*deltaFzf**2)/Calphaf - (Wr*2*br*deltaFzr**2)/Calphar\n",
    "    Klltlist.append(Kllt)\n",
    "    \n",
    "plt.figure(figsize=(14, 10))\n",
    "plt.plot(vlist, Fzflist , label=\"Change in Vertical Force on the Front Wheels\",color='blue')\n",
    "plt.plot(vlist, Fzrlist , label=\"Change in Vertical Force on the Rear Wheels\",color='green')\n",
    "plt.xlabel(\"Velocity (m/s)\")\n",
    "plt.ylabel(\"Change in vertical force on the wheels [N}]\")\n",
    "plt.title(\"Change in vertical force on the wheels against velocity of the vehicle\")\n",
    "plt.grid(True)\n",
    "plt.legend()\n",
    "plt.show()\n",
    "\n",
    "alist = (vlist**2)/(R*g)\n",
    "\n",
    "plt.figure(figsize=(14, 10))\n",
    "plt.plot(alist, Klltlist , label=\"Lateral Load Transfer Understeer Coefficient\",color='red')\n",
    "plt.xlabel(\"Velocity [m/s]\")\n",
    "plt.ylabel(\"Understeer Coefficient Kllt [deg/g]\")\n",
    "plt.title(\"Lateral Load Transfer Understeer Coefficient against Lateral Acceleration\")\n",
    "plt.grid(True)\n",
    "plt.legend()\n",
    "plt.show()"
   ]
  },
  {
   "attachments": {
    "%7BA8A57AF4-269C-435B-9D24-354F71CD918B%7D.png": {
     "image/png": "[encoded data removed]"
    }
   },
   "cell_type": "markdown",
   "metadata": {},
   "source": [
    "![%7BA8A57AF4-269C-435B-9D24-354F71CD918B%7D.png](attachment:%7BA8A57AF4-269C-435B-9D24-354F71CD918B%7D.png)"
   ]
  },
  {
   "cell_type": "code",
   "execution_count": 78,
   "metadata": {},
   "outputs": [],
   "source": [
    "vlist = np.arange(0, 10, 0.1)\n",
    "Fzflist = []\n",
    "Fzrlist = []\n",
    "Klltlist = []\n",
    "for v in vlist:\n",
    "    deltaFzf, deltaFzr = delta_F_get(v)\n",
    "    Fzflist.append(deltaFzf)\n",
    "    Fzrlist.append(deltaFzr)\n",
    "    Kllt = (Wf*2*bf*deltaFzf**2)/Calphaf - (Wr*2*br*deltaFzr**2)/Calphar\n",
    "    Klltlist.append(Kllt)\n",
    "    \n",
    "plt.figure(figsize=(14, 10))\n",
    "plt.plot(vlist, Fzflist , label=\"Change in Vertical Force on the Front Wheels\",color='blue')\n",
    "plt.plot(vlist, Fzrlist , label=\"Change in Vertical Force on the Rear Wheels\",color='green')\n",
    "plt.xlabel(\"Velocity (m/s)\")\n",
    "plt.ylabel(\"Change in vertical force on the wheels [N}]\")\n",
    "plt.title(\"Change in vertical force on the wheels against velocity of the vehicle\")\n",
    "plt.grid(True)\n",
    "plt.legend()\n",
    "plt.show()\n",
    "\n",
    "alist = (vlist**2)/(R*g)\n",
    "\n",
    "plt.figure(figsize=(14, 10))\n",
    "plt.plot(alist, Klltlist , label=\"Lateral Load Transfer Understeer Coefficient\",color='red')\n",
    "plt.xlabel(\"Velocity [m/s]\")\n",
    "plt.ylabel(\"Understeer Coefficient Kllt [deg/g]\")\n",
    "plt.title(\"Lateral Load Transfer Understeer Coefficient against Lateral Acceleration\")\n",
    "plt.grid(True)\n",
    "plt.legend()\n",
    "plt.show()"
   ]
  },
  {
   "cell_type": "markdown",
   "metadata": {},
   "source": [
    "# Understeer Effect from Drivetrain"
   ]
  },
  {
   "attachments": {
    "%7B51A63392-82AB-4004-B463-591D4F1CF2CC%7D.png": {
     "image/png": "[encoded data removed]"
    }
   },
   "cell_type": "markdown",
   "metadata": {},
   "source": [
    "![%7B51A63392-82AB-4004-B463-591D4F1CF2CC%7D.png](attachment:%7B51A63392-82AB-4004-B463-591D4F1CF2CC%7D.png)"
   ]
  },
  {
   "cell_type": "code",
   "execution_count": 83,
   "metadata": {},
   "outputs": [],
   "source": [
    "Tm = 20 #Nm\n",
    "\n",
    "gearbox = 5.15\n",
    "chain = 2.2\n",
    "CVTmax = 3.83\n",
    "CVTmin = 0.76\n",
    "split = 0.5\n",
    "Kdrivelist = []\n",
    "Neutlist = []\n",
    "\n",
    "CVTrange = np.arange(CVTmin, CVTmax, 0.01)\n",
    "for CVT in CVTrange:\n",
    "    Fxr = 0.07*Tm*chain*gearbox*CVT*split/rollrad\n",
    "    Fxf = 0.07*Tm*chain*gearbox*CVT*(1-split)/rollrad\n",
    "    Kdrive = -1*((Wf/Calphaf)*(Fxf/Calphaf)-(Wr/Calphar)*(Fxr/Calphar))\n",
    "    Kdrivelist.append(Kdrive)\n",
    "    Neut = 57.3*(L/R)/(1+Fxf/Calphaf)\n",
    "    Neutlist.append(Neut)\n",
    "    \n",
    "plt.figure(figsize=(14, 10))\n",
    "plt.plot(CVTrange, Kdrivelist , label=\"Drivetrain Related Understeer Coefficient\",color='lime')\n",
    "plt.xlabel(\"CVT ratio\")\n",
    "plt.ylabel(\"Understeer Coefficient Kdrive [deg/g]\")\n",
    "plt.title(\"Drivetrain Related Understeer Coefficient against CVT setting\")\n",
    "plt.grid(True)\n",
    "plt.legend()\n",
    "plt.show()\n",
    "\n",
    "plt.figure(figsize=(14, 10))\n",
    "plt.plot(CVTrange, Neutlist , label=\"Drivetrain Related Understeer Coefficient\",color='orange')\n",
    "plt.xlabel(\"CVT ratio\")\n",
    "plt.ylabel(\"Neutral steer Ackermann Angle [deg]\")\n",
    "plt.title(\"Drivetrain Related Understeer Coefficient against CVT setting\")\n",
    "plt.grid(True)\n",
    "plt.legend()\n",
    "plt.show()"
   ]
  },
  {
   "cell_type": "markdown",
   "metadata": {},
   "source": [
    "# Including effects of lateral load transfer, diff and longitudinal forces"
   ]
  },
  {
   "attachments": {
    "%7B16BB9505-08FB-43D9-BD3A-50B69A66729B%7D.png": {
     "image/png": "[encoded data removed]"
    }
   },
   "cell_type": "markdown",
   "metadata": {},
   "source": [
    "![%7B16BB9505-08FB-43D9-BD3A-50B69A66729B%7D.png](attachment:%7B16BB9505-08FB-43D9-BD3A-50B69A66729B%7D.png)"
   ]
  },
  {
   "cell_type": "code",
   "execution_count": 80,
   "metadata": {},
   "outputs": [
    {
     "name": "stdout",
     "output_type": "stream",
     "text": [
      "48.1525\n",
      "48.1525\n",
      "3.1475491371717585\n"
     ]
    }
   ],
   "source": [
    "Clong = 54 #N/%\n",
    "split = 0.5\n",
    "Acklist = []\n",
    "vlist = np.arange(0, 20, 0.1)\n",
    "for v in vlist:\n",
    "    Kcs = (Wf/Calphaf - Wr/Calphar) #Kcs\n",
    "    \n",
    "    deltaFzf, deltaFzr = delta_F_get(v)\n",
    "    Kllt = (Wf*2*bf*deltaFzf**2)/Calphaf - (Wr*2*br*deltaFzr**2)/Calphar #Kllt\n",
    "\n",
    "    Fxr = 0.07*Tm*chain*gearbox*((CVTmin+CVTmax)/2)*split/rollrad\n",
    "    Fxf = 0.07*Tm*chain*gearbox*((CVTmin+CVTmax)/2)*(1-split)/rollrad\n",
    "    Kdrive = -1*((Wf/Calphaf)*(Fxf/Calphaf)-(Wr/Calphar)*(Fxr/Calphar)) #Kdrive\n",
    "    \n",
    "    AckAngle = (57.3*(L/R))/(1+Fxf/Calphaf)+((50*Clong*track**2)/(Calphar*L*R))+(Kcs+Kllt+Kdrive)*(v**2/(g*R))\n",
    "    Acklist.append(AckAngle)\n",
    "print(Fxr)\n",
    "print(Fxf)\n",
    "print(((50*Clong*track**2)/(Calphar*L*R)))\n",
    "Neutral = np.ones(len(Acklist))*57.3*(L/R)/(1+Fxf/Calphaf)\n",
    "plt.figure(figsize=(14, 10))\n",
    "plt.plot(vlist, Acklist, label=\"Ackermann Angle (Delta)\",color='red')\n",
    "plt.plot(vlist, Neutral, label = \"Neutral steering line\",color='black')\n",
    "plt.xlabel(\"Velocity (m/s)\")\n",
    "plt.ylabel(\"Ackermann Angle (Delta in degrees)\")\n",
    "plt.title(\"Ackermann Angle vs Velocity\")\n",
    "plt.grid(True)\n",
    "plt.legend()\n",
    "plt.show()"
   ]
  },
  {
   "cell_type": "code",
   "execution_count": 81,
   "metadata": {},
   "outputs": [],
   "source": [
    "Clong = 54 #N/%\n",
    "\n",
    "Acklist = []\n",
    "Al_list = []\n",
    "vlist = np.arange(0, 10, 0.1)\n",
    "for v in vlist:\n",
    "    Kcs = (Wf/Calphaf - Wr/Calphar) #Kcs\n",
    "    \n",
    "    deltaFzf, deltaFzr = delta_F_get(v)\n",
    "    Kllt = (Wf*2*bf*deltaFzf**2)/Calphaf - (Wr*2*br*deltaFzr**2)/Calphar #Kllt\n",
    "\n",
    "    Fxr = 0.07*Tm*chain*gearbox*((CVTmin+CVTmax)/2)*split/rollrad\n",
    "    Fxf = 0.07*Tm*chain*gearbox*((CVTmin+CVTmax)/2)*(1-split)/rollrad\n",
    "    Kdrive = -1*((Wf/Calphaf)*(Fxf/Calphaf)-(Wr/Calphar)*(Fxr/Calphar)) #Kdrive\n",
    "    \n",
    "    AckAngle = (57.3*(L/R))/(1+Fxf/Calphaf)+((50*Clong*track**2)/(Calphar*L*R))+(Kcs+Kllt+Kdrive)*(v**2/(g*R))\n",
    "    Acklist.append(AckAngle)\n",
    "    Al_list.append((v**2/(g*R)))\n",
    "\n",
    "\n",
    "plt.figure(figsize=(14, 10))\n",
    "plt.plot(Al_list, Acklist, label=\"Ackermann Angle (Delta)\",color='red')\n",
    "plt.xlabel(\"Lateral Acceleration [g]\")\n",
    "plt.ylabel(\"Ackermann Angle (Delta in degrees)\")\n",
    "plt.title(\"Ackermann Angle vs Lateral Acceleration\")\n",
    "plt.grid(True)\n",
    "plt.legend()\n",
    "plt.show()"
   ]
  },
  {
   "attachments": {
    "%7B85905393-7E6E-4CCD-9F98-91D267688B70%7D.png": {
     "image/png": "[encoded data removed]"
    }
   },
   "cell_type": "markdown",
   "metadata": {},
   "source": [
    "![%7B85905393-7E6E-4CCD-9F98-91D267688B70%7D.png](attachment:%7B85905393-7E6E-4CCD-9F98-91D267688B70%7D.png)"
   ]
  },
  {
   "cell_type": "code",
   "execution_count": 82,
   "metadata": {},
   "outputs": [],
   "source": [
    "Clong = 54 #N/%\n",
    "\n",
    "Acklist = []\n",
    "yaw_list = []\n",
    "Neutlist = []\n",
    "vlist = np.arange(0, 15, 0.1)\n",
    "for v in vlist:\n",
    "    Kcs = (Wf/Calphaf - Wr/Calphar) #Kcs\n",
    "    \n",
    "    deltaFzf, deltaFzr = delta_F_get(v)\n",
    "    Kllt = (Wf*2*bf*deltaFzf**2)/Calphaf - (Wr*2*br*deltaFzr**2)/Calphar #Kllt\n",
    "\n",
    "    Fxr = 0.05*Tm*chain*gearbox*((CVTmin+CVTmax)/2)*split/rollrad\n",
    "    Fxf = 0.05*Tm*chain*gearbox*((CVTmin+CVTmax)/2)*(1-split)/rollrad\n",
    "    Kdrive = -1*((Wf/Calphaf)*(Fxf/Calphaf)-(Wr/Calphar)*(Fxr/Calphar)) #Kdrive\n",
    "    \n",
    "    AckAngle = (57.3*(L/R))/(1+Fxf/Calphaf)+((50*Clong*track**2)/(Calphar*L*R))+(Kcs+Kllt+Kdrive)*(v**2/(g*R))\n",
    "    yaw_rate = 57.3*(v/R)\n",
    "    Neutral = (1/L)*v\n",
    "    yaw_gain = yaw_rate/AckAngle\n",
    "    \n",
    "    Acklist.append(AckAngle)\n",
    "    yaw_list.append(yaw_gain)\n",
    "    Neutlist.append(Neutral)\n",
    "\n",
    "plt.figure(figsize=(14, 10))\n",
    "plt.plot(vlist, yaw_list, label=\"Yaw Velocity Gain (r/delta)\",color='red')\n",
    "plt.plot(vlist, Neutlist, label=\"Neutral Steer Line for Yaw Velocity Gain\",color='black')\n",
    "plt.xlabel(\"Vehicle Velocity [m/s]\")\n",
    "plt.ylabel(\"Yaw Velocity Gain (r/delta)\")\n",
    "plt.title(\"Yaw Velocity Gain vs Vehicle Velocity\")\n",
    "plt.grid(True)\n",
    "plt.legend()\n",
    "plt.show()"
   ]
  },
  {
   "cell_type": "markdown",
   "metadata": {},
   "source": [
    "# Measured Data"
   ]
  },
  {
   "cell_type": "markdown",
   "metadata": {},
   "source": [
    "# Data Extraction"
   ]
  },
  {
   "cell_type": "code",
   "execution_count": null,
   "metadata": {},
   "outputs": [],
   "source": [
    "#Copied code from Wietsche\n",
    "# -*- coding: utf-8 -*-\n",
    "\"\"\"\n",
    "Created on Wed Aug  2 10:12:48 2017\n",
    "\n",
    "@author: User\n",
    "\"\"\"\n",
    "import numpy as np\n",
    "from collections import namedtuple\n",
    "def readV3( filename ):\n",
    "    \n",
    "    fid = open(filename, \"rb\")\n",
    "    \n",
    "    Version = np.fromfile(fid, dtype=np.uint16,count=1)\n",
    "    print(\"Version\",Version[0])\n",
    "    if(Version[0] == 3):\n",
    "        ch = [1];\n",
    "        HeaderRead = 0\n",
    "        temp=[0, 0, 0]\n",
    "        stop = 0;\n",
    "        Data =[]\n",
    "        while (ch[0] != \"\") & (stop == 0):\n",
    "            ch = np.fromfile(fid, dtype=np.uint8,count=1)\n",
    "            if(ch[0]==\"\"):\n",
    "                break;\n",
    "            if((ch[0]==int('0xA0',16)) & (HeaderRead==0)):\n",
    "                temp[0] = ch[0];\n",
    "            elif((ch[0]==int('0xA1',16)) & (temp[0] == int('0xA0',16))):    \n",
    "                temp[1] = ch[0];\n",
    "            elif((ch[0]==int('0xA2',16)) & (temp[0] == int('0xA0',16)) & (temp[1] == int('0xA1',16))):   \n",
    "                temp[2] = ch[0];\n",
    "            elif((ch[0]==int('0xA3',16)) & (temp[0] == int('0xA0',16)) & (temp[1] == int('0xA1',16)) & (temp[2] == int('0xA2',16))):    \n",
    "                \n",
    "                print('start Header')\n",
    "                HeaderRead = 1\n",
    "                SFRead = 0\n",
    "                temp2=[0, 0, 0]\n",
    "                temp=[0, 0, 0]\n",
    "                temp3=[0, 0, 0]\n",
    "                Nchannelset = 0\n",
    "                Channel = namedtuple('Channel', ['ChannelName','ChannelNumber','Data','time'])\n",
    "                ChannelFound = 0;\n",
    "                NChannel = -1;\n",
    "                while stop != 1:\n",
    "                    ch = np.fromfile(fid, dtype=np.uint8,count=1)\n",
    "                    if(ch[0]==\"\"):\n",
    "                        break;\n",
    "                        \n",
    "\n",
    "                    if((ch[0]==int('0xB0',16)) & (HeaderRead==1)):\n",
    "                        temp[0] = ch[0];\n",
    "                    elif((ch[0]==int('0xB1',16)) & (temp[0] == int('0xB0',16))):    \n",
    "                        temp[1] = ch[0];\n",
    "                    elif((ch[0]==int('0xB2',16)) & (temp[0] == int('0xB0',16)) & (temp[1] == int('0xB1',16))):   \n",
    "                        temp[2] = ch[0];\n",
    "                    elif((ch[0]==int('0xB3',16)) & (temp[0] == int('0xB0',16)) & (temp[1] == int('0xB1',16)) & (temp[2] == int('0xB2',16))):\n",
    "                        print('stop Header')\n",
    "                    else:\n",
    "                        temp=[0, 0, 0]\n",
    "                        \n",
    "                    if(SFRead == 0):\n",
    "                        if((ch[0]==int('0xC0',16)) ):\n",
    "                            temp2[0] = ch[0];\n",
    "                        elif((ch[0]==int('0xC1',16)) & (temp2[0] == int('0xC0',16))):  \n",
    "                            SFtemp = np.fromfile(fid, dtype=np.float32,count=1)[0]\n",
    "                            temp2[1] = ch[0];\n",
    "                        elif((temp2[1]==int('0xC1',16)) & (temp2[0] == int('0xC0',16)) & (ch[0] == int('0xD0',16))):\n",
    "                            temp2[2] = ch[0];\n",
    "                        elif((temp2[1]==int('0xC1',16)) & (temp2[0] == int('0xC0',16)) & (temp2[2] == int('0xD0',16))& (ch[0] == int('0xD1',16))):\n",
    "                            SF = SFtemp\n",
    "                            SFRead = 1\n",
    "                            print('SF = ',SF)\n",
    "                            temp2=[0, 0, 0]\n",
    "                            \n",
    "                            \n",
    "                    if(Nchannelset == 0):\n",
    "                        if((ch[0]==int('0xC2',16)) ):\n",
    "                            temp2[0] = ch[0];\n",
    "                        elif((ch[0]==int('0xC3',16)) & (temp2[0] == int('0xC2',16))):  \n",
    "                            NChanneltemp = np.fromfile(fid, dtype=np.uint8,count=1)[0]\n",
    "                            temp2[1] = ch[0];\n",
    "                        elif((temp2[1]==int('0xC3',16)) & (temp2[0] == int('0xC2',16)) & (ch[0] == int('0xD2',16))):\n",
    "                            temp2[2] = ch[0];\n",
    "                        elif((temp2[1]==int('0xC3',16)) & (temp2[0] == int('0xC2',16)) & (temp2[2] == int('0xD2',16))& (ch[0] == int('0xD3',16))):\n",
    "                            NChannel = NChanneltemp\n",
    "                            Nchannelset = 1\n",
    "                            print('NChannel = ',NChannel)\n",
    "                            temp2=[0, 0, 0]            \n",
    "                    \n",
    "                \n",
    "                    if(Nchannelset == 1):\n",
    "                        if((ch[0]==int('0xC4',16)) ):\n",
    "                            temp2[0] = ch[0];\n",
    "                        elif((ch[0]==int('0xC5',16)) & (temp2[0] == int('0xC4',16))):  \n",
    "                            ChannelNumTemp = np.fromfile(fid, dtype=np.uint8,count=1)[0]\n",
    "                            ChannelNameLenTemp = np.fromfile(fid, dtype=np.uint8,count=1)[0]\n",
    "                            NameTemp = fid.read(ChannelNameLenTemp)  \n",
    "                            temp2[1] = ch[0];\n",
    "                        elif((temp2[1]==int('0xC5',16)) & (temp2[0] == int('0xC4',16)) & (ch[0] == int('0xD5',16))):\n",
    "                            temp2[2] = ch[0];\n",
    "                        elif((temp2[1]==int('0xC5',16)) & (temp2[0] == int('0xC4',16)) & (temp2[2] == int('0xD5',16))& (ch[0] == int('0xD6',16))):\n",
    "                            ChannelNum = ChannelNumTemp\n",
    "                            Name = NameTemp\n",
    "                            print('Name = ',Name)\n",
    "                            temp2=[0, 0, 0]\n",
    "                            Data.append(Channel(Name.decode(\"utf-8\") , ChannelNum, np.array([]),np.array([]) ) )\n",
    "                            ChannelFound+=1\n",
    "                            k = 0;\n",
    "                \n",
    "                    if(ChannelFound == NChannel ):\n",
    "                        if((ch[0]==int('0xE0',16)) & (HeaderRead==1)):\n",
    "                            temp3[0] = ch[0];\n",
    "                        elif((ch[0]==int('0xE1',16)) & (temp3[0] == int('0xE0',16))):    \n",
    "                            temp3[1] = ch[0];\n",
    "                        elif((ch[0]==int('0xE2',16)) & (temp3[0] == int('0xE0',16)) & (temp3[1] == int('0xE1',16))):   \n",
    "                            temp3[2] = ch[0];\n",
    "                        elif((ch[0]==int('0xE3',16)) & (temp3[0] == int('0xE0',16)) & (temp3[1] == int('0xE1',16)) & (temp3[2] == int('0xE2',16))):\n",
    "                            print('start Data')\n",
    "                            DataStart = fid.tell()\n",
    "                            fid.seek(-4,2) # move the cursor to the end of the file\n",
    "                            size = fid.tell()\n",
    "                            NumPoints = (int)((size-DataStart)/NChannel/2);\n",
    "                            time = np.array(range(0,NumPoints))/SF\n",
    "                            fp = np.memmap(filename, offset=DataStart, dtype='int16', mode='r', shape=(NumPoints,NChannel))\n",
    "                            #fp = np.memmap(filename, offset=DataStart, dtype='int16', mode='r')\n",
    "                            arr = np.array(fp[:]);\n",
    "                            arr = arr.astype('float');\n",
    "                            arr = (arr*10)/32768\n",
    "                            for i in range(0,NChannel):\n",
    "                                Data[i] = Data[i]._replace(Data=arr[:,i])\n",
    "                                Data[i] = Data[i]._replace(time=time)\n",
    "                            stop = 1  \n",
    "                        else:\n",
    "                            temp3=[0, 0, 0]        \n",
    "                \n",
    "                \n",
    "                \n",
    "                \n",
    "                \n",
    "                \n",
    "                \n",
    "                \n",
    "                \n",
    "                \n",
    "                \n",
    "                \n",
    "                \n",
    "                \n",
    "                \n",
    "            else:\n",
    "                temp =[0, 0, 0]\n",
    "    return Data"
   ]
  },
  {
   "cell_type": "markdown",
   "metadata": {},
   "source": [
    "# Calibration and Formulae"
   ]
  },
  {
   "cell_type": "code",
   "execution_count": null,
   "metadata": {},
   "outputs": [],
   "source": [
    "from scipy.fft import fft, ifft\n",
    "def Vtodisp(V): \n",
    "    disp = (136.03*V-5.7914) - 60.45945946\n",
    "    return disp\n",
    "\n",
    "def theta_w(x):\n",
    "    theta = (0.0043*(x**2) - 0.8466*x -1.6943)\n",
    "    return theta\n",
    "\n",
    "def AAngle(x):\n",
    "        sigma_i = np.deg2rad(theta_w(-1*x))\n",
    "        sigma_0 = np.deg2rad(theta_w(x))\n",
    "        AckAngle = np.arctan(1/(((1/(np.tan(sigma_o)))+(1/(np.tan(sigma_i))))/2))\n",
    "        return AckAngle\n",
    "    \n",
    "def Gx(V):\n",
    "    g = 2.0304*V-5.1095\n",
    "    return g\n",
    "\n",
    "def Gy(V):\n",
    "    g = 2.0196*V-4.9944\n",
    "    return g\n",
    "\n",
    "def Gz(V):\n",
    "    g = 2.0066*V-5.139\n",
    "    return g\n",
    "\n",
    "import numpy as np\n",
    "import matplotlib.pyplot as plt\n",
    "\n",
    "import numpy as np\n",
    "\n",
    "def perform_fft(data_values, time_values):\n",
    "    data_values = np.array(data_values)\n",
    "    time_values = np.array(time_values)\n",
    "\n",
    "    sampling_rate = 1000 #Hz\n",
    "    dt = 1 / sampling_rate  \n",
    "\n",
    "    fft_result = np.fft.fft(data_values)\n",
    "    N = len(data_values)\n",
    "    frequencies = np.fft.fftfreq(N, dt)\n",
    "    magnitude = np.abs(fft_result)\n",
    "\n",
    "    return frequencies, magnitude"
   ]
  },
  {
   "cell_type": "markdown",
   "metadata": {},
   "source": [
    "# First set of tests"
   ]
  },
  {
   "cell_type": "markdown",
   "metadata": {},
   "source": [
    "# Polaris CV joints 5m Constant Radius Test CCW"
   ]
  },
  {
   "cell_type": "code",
   "execution_count": null,
   "metadata": {},
   "outputs": [],
   "source": [
    "Test5m = readV3('C:\\\\Users\\\\Rialdo\\\\Desktop\\\\Rialdo Roeloffze Student\\\\Semester 2 2024\\\\MRN 422\\\\Experimental Data\\\\Constant Radius Tests 2024-09-27\\\\5m\\\\Constant Radius 5m CCW better.bin')"
   ]
  },
  {
   "cell_type": "markdown",
   "metadata": {},
   "source": [
    "# Steering angle vs time 5m CCW"
   ]
  },
  {
   "cell_type": "code",
   "execution_count": null,
   "metadata": {},
   "outputs": [],
   "source": [
    "Vrack = Test5m[0][2]\n",
    "Vrack_adj = Vrack+0.05\n",
    "print(Vrack)\n",
    "print(Vrack_adj)\n",
    "t5m = Test5m[0][3]\n",
    "print(t5m)\n",
    "\n",
    "rack_disp = Vtodisp(Vrack_adj)\n",
    "print(rack_disp)\n",
    "steer5m = np.rad2deg(AAngle(theta_w(rack_disp))) \n",
    "\n",
    "frequencies, magnitude = perform_fft(steer5m, t5m)\n",
    "\n",
    "plt.figure(figsize=(12, 6))\n",
    "plt.plot(frequencies, magnitude)\n",
    "plt.xlim(0, 500)  \n",
    "plt.title('FFT of Data')\n",
    "plt.xlabel('Frequency (Hz)')\n",
    "plt.ylabel('Magnitude')\n",
    "plt.grid()\n",
    "plt.show()"
   ]
  },
  {
   "cell_type": "code",
   "execution_count": null,
   "metadata": {},
   "outputs": [],
   "source": [
    "Vrack = Test5m[0][2]\n",
    "Vrack_adj = Vrack+0.05\n",
    "print(Vrack)\n",
    "print(Vrack_adj)\n",
    "t5m = Test5m[0][3]\n",
    "print(t5m)\n",
    "\n",
    "rack_disp = Vtodisp(Vrack_adj)\n",
    "print(rack_disp)\n",
    "steer5m = np.rad2deg(AAngle(theta_w(rack_disp))) \n",
    "print(steer5m)\n",
    "\n",
    "fft_vals = fft(steer5m)\n",
    "fft_freq = np.fft.fftfreq(len(steer5m), d=(t5m[1] - t5m[0])) \n",
    "\n",
    "threshold = 10 \n",
    "fft_vals_filtered = np.where(np.abs(fft_freq) > threshold, 0, fft_vals)\n",
    "\n",
    "steer5m_smoothed = np.real(ifft(fft_vals_filtered))\n",
    "\n",
    "\n",
    "start = 100 \n",
    "end = 150\n",
    "\n",
    "time_mask = (t5m >= start) & (t5m <= end)\n",
    "t5m_filtered = t5m[time_mask]\n",
    "steer5m_raw = steer5m[time_mask]\n",
    "steer5m_filtered = steer5m_smoothed[time_mask]\n",
    "\n",
    "plt.figure(figsize=(16, 10))\n",
    "plt.plot(t5m_filtered, steer5m_raw, label='Test 1 Steering Angles Unfiltered CRT 5m CCW',color = 'teal')\n",
    "plt.plot(t5m_filtered, steer5m_filtered, label='Test 1 Steering Angles Filtered CRT 5m CCW',color = 'Orange')\n",
    "plt.legend()\n",
    "plt.xlabel('Time [s]')\n",
    "plt.ylabel('Steering angle [degrees]')\n",
    "plt.grid()\n",
    "plt.show()"
   ]
  },
  {
   "cell_type": "markdown",
   "metadata": {},
   "source": [
    "# Lateral Acceleration versus time on the same interval 5m"
   ]
  },
  {
   "cell_type": "code",
   "execution_count": null,
   "metadata": {},
   "outputs": [],
   "source": [
    "lateral_acc = Test5m[2][2]\n",
    "print(lateral_acc)\n",
    "t5m = Test5m[2][3]\n",
    "print(t5m)\n",
    "lateral_acc5 = Gy(lateral_acc)*9.81\n",
    "print(lateral_acc5)\n",
    "\n",
    "frequencies, magnitude = perform_fft(lateral_acc5, t5m)\n",
    "\n",
    "plt.figure(figsize=(12, 6))\n",
    "plt.plot(frequencies, magnitude)\n",
    "plt.xlim(0, 500)  \n",
    "plt.title('FFT of Data')\n",
    "plt.xlabel('Frequency (Hz)')\n",
    "plt.ylabel('Magnitude')\n",
    "plt.grid()\n",
    "plt.show()"
   ]
  },
  {
   "cell_type": "code",
   "execution_count": null,
   "metadata": {},
   "outputs": [],
   "source": [
    "lateral_acc = Test5m[2][2]\n",
    "print(lateral_acc)\n",
    "t5m = Test5m[2][3]\n",
    "print(t5m)\n",
    "lateral_acc5 = Gy(lateral_acc)*9.81\n",
    "print(lateral_acc5)\n",
    "\n",
    "fft_vals = fft(lateral_acc5)\n",
    "fft_freq = np.fft.fftfreq(len(lateral_acc5), d=(t5m[1] - t5m[0])) \n",
    "\n",
    "threshold = 5 \n",
    "fft_vals_filtered = np.where(np.abs(fft_freq) > threshold, 0, fft_vals)\n",
    "\n",
    "lateral_acc5_smoothed = np.real(ifft(fft_vals_filtered))\n",
    "\n",
    "\n",
    "start = 100 \n",
    "end = 150\n",
    "\n",
    "time_mask = (t5m >= start) & (t5m <= end)\n",
    "t5m_filtered = t5m[time_mask]\n",
    "lateral_acc5_raw = lateral_acc5[time_mask]\n",
    "lateral_acc5_filtered = lateral_acc5_smoothed[time_mask]\n",
    "\n",
    "plt.figure(figsize=(16, 10))\n",
    "plt.plot(t5m_filtered, lateral_acc5_raw, label='Test 1 Lateral Acceleration Unfiltered CRT 5m CCW',color = 'teal')\n",
    "plt.plot(t5m_filtered, lateral_acc5_filtered, label='Test 1 Lateral Acceleration Voltage CRT 5m CCW',color='orange')\n",
    "plt.legend()\n",
    "plt.xlabel('Time [s]')\n",
    "plt.ylabel('Lateral Acceleration [m/s^2]')\n",
    "plt.grid()\n",
    "plt.show()"
   ]
  },
  {
   "cell_type": "markdown",
   "metadata": {},
   "source": [
    "# Steering Angle vs Velocity (From lateral Acceleration) 5m"
   ]
  },
  {
   "cell_type": "code",
   "execution_count": null,
   "metadata": {},
   "outputs": [],
   "source": [
    "plt.figure(figsize=(16, 10))\n",
    "plt.plot(np.sqrt(lateral_acc5_filtered*9.81*(5+track/2)), steer5m_filtered, label='Test 1 Steering angle vs Velocity CRT 5m CCW')\n",
    "neutral_line5 = 57.3*wheelbase/(5+track/2)*np.ones(len(steer5m))\n",
    "plt.plot(np.linspace(0, 20, len(steer5m)),neutral_line5, color = 'black', label='Neutral Steer Line')\n",
    "plt.legend()\n",
    "plt.xlabel('velocity [m/s]')\n",
    "plt.ylabel('Steering angle [Degrees]')\n",
    "plt.grid()\n",
    "plt.show()"
   ]
  },
  {
   "cell_type": "markdown",
   "metadata": {},
   "source": [
    "# Polaris CV joints 6m constant radius test CCW"
   ]
  },
  {
   "cell_type": "code",
   "execution_count": null,
   "metadata": {},
   "outputs": [],
   "source": [
    "Test6m = readV3('C:\\\\Users\\\\Rialdo\\\\Desktop\\\\Rialdo Roeloffze Student\\\\Semester 2 2024\\\\MRN 422\\\\Experimental Data\\\\Constant Radius Tests 2024-09-27\\\\6m\\\\Constant Radius 6m CCW.bin')"
   ]
  },
  {
   "cell_type": "code",
   "execution_count": null,
   "metadata": {},
   "outputs": [],
   "source": [
    "Vrack = Test6m[0][2]\n",
    "Vrack_adj = Vrack+0.05\n",
    "print(Vrack)\n",
    "print(Vrack_adj)\n",
    "t6m = Test6m[0][3]\n",
    "print(t6m)\n",
    "\n",
    "rack_disp = Vtodisp(Vrack_adj)\n",
    "print(rack_disp)\n",
    "steer6m = np.rad2deg(AAngle(theta_w(rack_disp))) \n",
    "print(steer6m)\n",
    "\n",
    "fft_vals = fft(steer6m)\n",
    "fft_freq = np.fft.fftfreq(len(steer6m), d=(t6m[1] - t6m[0])) \n",
    "\n",
    "threshold = 50 \n",
    "fft_vals_filtered = np.where(np.abs(fft_freq) > threshold, 0, fft_vals)\n",
    "\n",
    "steer6m_smoothed = np.real(ifft(fft_vals_filtered))\n",
    "\n",
    "\n",
    "start = 50 \n",
    "end = 100\n",
    "\n",
    "time_mask = (t6m >= start) & (t6m <= end)\n",
    "t6m_filtered = t6m[time_mask]\n",
    "steer6m_raw = steer6m[time_mask]\n",
    "steer6m_filtered = steer6m_smoothed[time_mask]\n",
    "\n",
    "plt.figure(figsize=(16, 10))\n",
    "plt.plot(t6m_filtered, steer6m_raw, label='Test 2 Steering Angles Unfiltered CRT 6m CCW',color = 'teal')\n",
    "plt.plot(t6m_filtered, steer6m_filtered, label='Test 2 Steering Angles Filtered CRT 6m CCW',color = 'red')\n",
    "plt.legend()\n",
    "plt.xlabel('Time [s]')\n",
    "plt.ylabel('Steering angle [degrees]')\n",
    "plt.grid()\n",
    "plt.show()"
   ]
  },
  {
   "cell_type": "markdown",
   "metadata": {},
   "source": [
    "# Lateral Acceleration versus time on the same interval 6m"
   ]
  },
  {
   "cell_type": "code",
   "execution_count": null,
   "metadata": {},
   "outputs": [],
   "source": [
    "lateral_acc = Test6m[2][2]\n",
    "print(lateral_acc)\n",
    "t6m = Test6m[2][3]\n",
    "print(t6m)\n",
    "lateral_acc6 = 2*9.81*((lateral_acc)-2.425) \n",
    "print(lateral_acc6)\n",
    "\n",
    "fft_vals = fft(lateral_acc6)\n",
    "fft_freq = np.fft.fftfreq(len(lateral_acc6), d=(t6m[1] - t6m[0])) \n",
    "\n",
    "threshold = 5 \n",
    "fft_vals_filtered = np.where(np.abs(fft_freq) > threshold, 0, fft_vals)\n",
    "\n",
    "lateral_acc6_smoothed = np.real(ifft(fft_vals_filtered))\n",
    "\n",
    "\n",
    "start = 50 \n",
    "end = 100\n",
    "\n",
    "time_mask = (t6m >= start) & (t6m <= end)\n",
    "t6m_filtered = t6m[time_mask]\n",
    "lateral_acc6_raw = lateral_acc6[time_mask]\n",
    "lateral_acc6_filtered = lateral_acc6_smoothed[time_mask]\n",
    "\n",
    "plt.figure(figsize=(16, 10))\n",
    "plt.plot(t6m_filtered, lateral_acc6_raw, label='Test 2 Lateral Acceleration Unfiltered CRT 6m CCW',color = 'teal')\n",
    "plt.plot(t6m_filtered, lateral_acc6_filtered, label='Test 2 Lateral Acceleration Filtered CRT 6m CCW', color = 'red')\n",
    "plt.legend()\n",
    "plt.xlabel('Time [s]')\n",
    "plt.ylabel('Lateral Acceleration [m/s^2]')\n",
    "plt.grid()\n",
    "plt.show()"
   ]
  },
  {
   "cell_type": "markdown",
   "metadata": {},
   "source": [
    "# Steering Angle vs Velocity (From lateral Acceleration) 6m"
   ]
  },
  {
   "cell_type": "code",
   "execution_count": null,
   "metadata": {},
   "outputs": [],
   "source": [
    "plt.figure(figsize=(16, 10))\n",
    "plt.plot(np.sqrt(lateral_acc6_filtered*9.8*(6+track/2)), steer6m_filtered, label='Test 3 Steering angle vs Velocity CRT 6m CCW',color='red')\n",
    "neutral_line6 = 57.3*wheelbase/(6+track/2)*np.ones(len(steer6m))\n",
    "plt.plot(np.linspace(0, 25, len(steer6m)),neutral_line6, color = 'black', label='Neutral Steer Line')\n",
    "plt.legend()\n",
    "plt.xlabel('velocity [m/s]')\n",
    "plt.ylabel('Steering angle [Degrees]')\n",
    "plt.grid()\n",
    "plt.show()"
   ]
  },
  {
   "cell_type": "markdown",
   "metadata": {},
   "source": [
    "# Polaris CV joints 7m constant radius test CCW"
   ]
  },
  {
   "cell_type": "code",
   "execution_count": null,
   "metadata": {},
   "outputs": [],
   "source": [
    "Test7m = readV3('C:\\\\Users\\\\Rialdo\\\\Desktop\\\\Rialdo Roeloffze Student\\\\Semester 2 2024\\\\MRN 422\\\\Experimental Data\\\\Constant Radius Tests 2024-09-27\\\\7m\\\\Constant Radius 7m CCW.bin')"
   ]
  },
  {
   "cell_type": "code",
   "execution_count": null,
   "metadata": {},
   "outputs": [],
   "source": [
    "Vrack = Test7m[0][2]\n",
    "Vrack_adj = Vrack+0.05\n",
    "print(Vrack)\n",
    "print(Vrack_adj)\n",
    "t7m = Test7m[0][3]\n",
    "print(t7m)\n",
    "\n",
    "rack_disp = Vtodisp(Vrack_adj)\n",
    "print(rack_disp)\n",
    "steer7m = np.rad2deg(AAngle(theta_w(rack_disp))) \n",
    "print(steer7m)\n",
    "\n",
    "fft_vals = fft(steer7m)\n",
    "fft_freq = np.fft.fftfreq(len(steer7m), d=(t7m[1] - t7m[0])) \n",
    "\n",
    "threshold = 50 \n",
    "fft_vals_filtered = np.where(np.abs(fft_freq) > threshold, 0, fft_vals)\n",
    "\n",
    "steer7m_smoothed = np.real(ifft(fft_vals_filtered))\n",
    "\n",
    "\n",
    "start = 3 \n",
    "end = 80\n",
    "\n",
    "time_mask = (t7m >= start) & (t7m <= end)\n",
    "t7m_filtered = t7m[time_mask]\n",
    "steer7m_raw = steer7m[time_mask]\n",
    "steer7m_filtered = steer7m_smoothed[time_mask]\n",
    "\n",
    "plt.figure(figsize=(16, 10))\n",
    "plt.plot(t7m_filtered, steer7m_raw, label='Test 3 Steering Angles Unfiltered CRT 7m CCW',color = 'teal')\n",
    "plt.plot(t7m_filtered, steer7m_filtered, label='Test 3 Steering Angles Filtered CRT 7m CCW',color = 'purple')\n",
    "plt.legend()\n",
    "plt.xlabel('Time [s]')\n",
    "plt.ylabel('Steering angle [degrees]')\n",
    "plt.grid()\n",
    "plt.show()"
   ]
  },
  {
   "cell_type": "markdown",
   "metadata": {},
   "source": [
    "# Lateral Acceleration versus time on the same interval 7m"
   ]
  },
  {
   "cell_type": "code",
   "execution_count": null,
   "metadata": {},
   "outputs": [],
   "source": [
    "lateral_acc = Test7m[2][2]\n",
    "print(lateral_acc)\n",
    "t7m = Test7m[2][3]\n",
    "print(t7m)\n",
    "lateral_acc7 = 2*9.81*((lateral_acc)-2.425) \n",
    "print(lateral_acc7)\n",
    "\n",
    "fft_vals = fft(lateral_acc7)\n",
    "fft_freq = np.fft.fftfreq(len(lateral_acc7), d=(t7m[1] - t7m[0])) \n",
    "\n",
    "threshold = 5 \n",
    "fft_vals_filtered = np.where(np.abs(fft_freq) > threshold, 0, fft_vals)\n",
    "\n",
    "lateral_acc7_smoothed = np.real(ifft(fft_vals_filtered))\n",
    "\n",
    "\n",
    "start = 3 \n",
    "end = 80\n",
    "\n",
    "time_mask = (t7m >= start) & (t7m <= end)\n",
    "t7m_filtered = t7m[time_mask]\n",
    "lateral_acc7_raw = lateral_acc7[time_mask]\n",
    "lateral_acc7_filtered = lateral_acc7_smoothed[time_mask]\n",
    "\n",
    "plt.figure(figsize=(16, 10))\n",
    "plt.plot(t7m_filtered, lateral_acc7_raw, label='Test 3 Lateral Acceleration Unfiltered CRT 7m CCW',color = 'teal')\n",
    "plt.plot(t7m_filtered, lateral_acc7_filtered, label='Test 3 Lateral Acceleration Voltage CRT 7m CCW', color = 'purple')\n",
    "plt.legend()\n",
    "plt.xlabel('Time [s]')\n",
    "plt.ylabel('Lateral Acceleration [m/s^2]')\n",
    "plt.grid()\n",
    "plt.show()"
   ]
  },
  {
   "cell_type": "markdown",
   "metadata": {},
   "source": [
    "# Steering Angle vs Velocity (From lateral Acceleration) 7m"
   ]
  },
  {
   "cell_type": "code",
   "execution_count": null,
   "metadata": {},
   "outputs": [],
   "source": [
    "plt.figure(figsize=(16, 10))\n",
    "plt.plot(np.sqrt(lateral_acc7_filtered*9.8*(7+track/2)), steer7m_filtered, label='Test 3 Steering angle vs Velocity CRT 7m CCW',color='green')\n",
    "neutral_line7 = 57.3*wheelbase/(7+track/2)*np.ones(len(steer7m))\n",
    "plt.plot(np.linspace(0, 15, len(steer7m)),neutral_line7, color = 'black', label='Neutral Steer Line')\n",
    "plt.legend()\n",
    "plt.xlabel('velocity [m/s]')\n",
    "plt.ylabel('Steering angle [Degrees]')\n",
    "plt.grid()\n",
    "plt.show()"
   ]
  },
  {
   "cell_type": "markdown",
   "metadata": {},
   "source": [
    "# Friction circle from tests"
   ]
  },
  {
   "cell_type": "code",
   "execution_count": null,
   "metadata": {},
   "outputs": [],
   "source": [
    "long_acc5 = Test5m[1][2]\n",
    "long_acc5 = 2*((long_acc5)-2.445) \n",
    "\n",
    "fft_vals = fft(long_acc5)\n",
    "fft_freq = np.fft.fftfreq(len(long_acc5), d=(t5m[1] - t5m[0])) \n",
    "\n",
    "threshold = 5 \n",
    "fft_vals_filtered = np.where(np.abs(fft_freq) > threshold, 0, fft_vals)\n",
    "\n",
    "long_acc5_smoothed = np.real(ifft(fft_vals_filtered))\n",
    "\n",
    "\n",
    "start = 100 \n",
    "end = 150\n",
    "\n",
    "time_mask = (t5m >= start) & (t5m <= end)\n",
    "t5m_filtered = t5m[time_mask]\n",
    "long_acc5_filtered = long_acc5_smoothed[time_mask]\n",
    "\n",
    "########################################################################\n",
    "\n",
    "long_acc6 = Test6m[1][2]\n",
    "long_acc6 = 2*((long_acc6)-2.445) \n",
    "\n",
    "fft_vals = fft(long_acc6)\n",
    "fft_freq = np.fft.fftfreq(len(long_acc6), d=(t6m[1] - t6m[0])) \n",
    "\n",
    "threshold = 5 \n",
    "fft_vals_filtered = np.where(np.abs(fft_freq) > threshold, 0, fft_vals)\n",
    "\n",
    "long_acc6_smoothed = np.real(ifft(fft_vals_filtered))\n",
    "\n",
    "\n",
    "start = 50 \n",
    "end = 100\n",
    "\n",
    "time_mask = (t6m >= start) & (t6m <= end)\n",
    "t6m_filtered = t6m[time_mask]\n",
    "long_acc6_filtered = long_acc6_smoothed[time_mask]\n",
    "\n",
    "##########################################################################\n",
    "\n",
    "long_acc7 = Test7m[1][2]\n",
    "long_acc7 = 2*((long_acc7)-2.445) \n",
    "\n",
    "fft_vals = fft(long_acc7)\n",
    "fft_freq = np.fft.fftfreq(len(long_acc7), d=(t7m[1] - t7m[0])) \n",
    "\n",
    "threshold = 5 \n",
    "fft_vals_filtered = np.where(np.abs(fft_freq) > threshold, 0, fft_vals)\n",
    "\n",
    "long_acc7_smoothed = np.real(ifft(fft_vals_filtered))\n",
    "\n",
    "\n",
    "start = 3 \n",
    "end = 80\n",
    "\n",
    "time_mask = (t7m >= start) & (t7m <= end)\n",
    "t7m_filtered = t7m[time_mask]\n",
    "long_acc7_filtered = long_acc7_smoothed[time_mask]"
   ]
  },
  {
   "cell_type": "code",
   "execution_count": null,
   "metadata": {},
   "outputs": [],
   "source": [
    "plt.figure(figsize=(16, 10))\n",
    "\n",
    "plt.plot(lateral_acc5_filtered/9.81, long_acc5_filtered, label='Test 1 Lateral Acceleration vs longitudinal acceleration', color = 'blue')\n",
    "plt.plot(lateral_acc6_filtered/9.81, long_acc6_filtered, label='Test 2 Lateral Acceleration vs longitudinal acceleration', color = 'red')\n",
    "plt.plot(lateral_acc7_filtered/9.81, long_acc7_filtered, label='Test 3 Lateral Acceleration vs longitudinal acceleration', color = 'green')\n",
    "plt.legend()\n",
    "plt.xlabel('Lateral acceleration [m/s^2]')\n",
    "plt.ylabel('Longitudinal Acceleration [m/s^2]')\n",
    "plt.grid()\n",
    "plt.show()"
   ]
  },
  {
   "cell_type": "markdown",
   "metadata": {},
   "source": [
    "# Second set of tests"
   ]
  },
  {
   "cell_type": "markdown",
   "metadata": {},
   "source": [
    "# Test 1:"
   ]
  },
  {
   "cell_type": "markdown",
   "metadata": {},
   "source": [
    "# Polaris CV joints 5m Constant Radius Test CCW Test 1"
   ]
  },
  {
   "cell_type": "code",
   "execution_count": null,
   "metadata": {
    "scrolled": true
   },
   "outputs": [],
   "source": [
    "Test1_5m = readV3('C:\\\\Users\\\\Rialdo\\\\Desktop\\\\Rialdo Roeloffze Student\\\\Semester 2 2024\\\\MRN 422\\\\Experimental Data\\\\Constant Radius Tests 2024-10-24\\\\Test1 Neutral 5m.bin')"
   ]
  },
  {
   "cell_type": "markdown",
   "metadata": {},
   "source": [
    "# Steering angle vs time 5m CCW for Test 1"
   ]
  },
  {
   "cell_type": "code",
   "execution_count": null,
   "metadata": {},
   "outputs": [],
   "source": [
    "Vrack = Test1_5m[0][2]\n",
    "Vrack_adj = Vrack - 0.043\n",
    "print(Vrack)\n",
    "print(Vrack_adj)\n",
    "t1 = Test1_5m[0][3]\n",
    "print(t1)\n",
    "\n",
    "rack_disp = Vtodisp(Vrack_adj)\n",
    "print(rack_disp)\n",
    "steer1 = np.rad2deg(AAngle(theta_w(rack_disp))) \n",
    "print(steer1) \n",
    "\n",
    "frequencies, magnitude = perform_fft(steer1, t1)\n",
    "\n",
    "plt.figure(figsize=(12, 6))\n",
    "plt.plot(frequencies, magnitude)\n",
    "plt.xlim(0, 500)  \n",
    "plt.title('FFT of Data')\n",
    "plt.xlabel('Frequency (Hz)')\n",
    "plt.ylabel('Magnitude')\n",
    "plt.grid()\n",
    "plt.show()"
   ]
  },
  {
   "cell_type": "code",
   "execution_count": null,
   "metadata": {},
   "outputs": [],
   "source": [
    "Vrack = Test1_5m[0][2]\n",
    "Vrack_adj = Vrack - 0.043\n",
    "print(Vrack)\n",
    "print(Vrack_adj)\n",
    "t1 = Test1_5m[0][3]\n",
    "print(t1)\n",
    "\n",
    "rack_disp = Vtodisp(Vrack_adj)\n",
    "print(rack_disp)\n",
    "steer1 = np.rad2deg(AAngle(theta_w(rack_disp))) \n",
    "print(steer1)\n",
    "\n",
    "fft_vals = fft(steer1)\n",
    "fft_freq = np.fft.fftfreq(len(steer1), d=(t1[1] - t1[0])) \n",
    "\n",
    "threshold = 10 \n",
    "fft_vals_filtered = np.where(np.abs(fft_freq) > threshold, 0, fft_vals)\n",
    "\n",
    "steer1_smoothed = np.real(ifft(fft_vals_filtered))\n",
    "\n",
    "\n",
    "start = 20 \n",
    "end = 85\n",
    "\n",
    "time_mask = (t1 >= start) & (t1 <= end)\n",
    "t1_filtered = t1[time_mask]\n",
    "steer1_raw = steer1[time_mask]\n",
    "steer1_filtered = steer1_smoothed[time_mask]\n",
    "\n",
    "plt.figure(figsize=(16, 10))\n",
    "plt.plot(t1_filtered, steer1_raw, label='Test 1 Steering Angles Unfiltered CRT 5m CCW',color = 'blue')\n",
    "plt.plot(t1_filtered, steer1_filtered, label='Test 1 Steering Angles Filtered CRT 5m CCW',color = 'Orange')\n",
    "plt.legend()\n",
    "plt.xlabel('Time [s]')\n",
    "plt.ylabel('Steering angle [degrees]')\n",
    "plt.grid()\n",
    "plt.show()"
   ]
  },
  {
   "cell_type": "markdown",
   "metadata": {},
   "source": [
    "# Lateral Acceleration versus time on the same interval 5m for Test 1"
   ]
  },
  {
   "cell_type": "code",
   "execution_count": null,
   "metadata": {},
   "outputs": [],
   "source": [
    "lateral_acc = Test1_5m[4][2]\n",
    "print(lateral_acc)\n",
    "t1 = Test1_5m[4][3]\n",
    "print(t1)\n",
    "lateral_acc1 = Gy(lateral_acc)*9.81\n",
    "print(lateral_acc1)\n",
    "\n",
    "frequencies, magnitude = perform_fft(lateral_acc, t1)\n",
    "\n",
    "plt.figure(figsize=(12, 6))\n",
    "plt.plot(frequencies, magnitude)\n",
    "plt.xlim(0, 500)  \n",
    "plt.title('FFT of Data')\n",
    "plt.xlabel('Frequency (Hz)')\n",
    "plt.ylabel('Magnitude')\n",
    "plt.grid()\n",
    "plt.show()"
   ]
  },
  {
   "cell_type": "code",
   "execution_count": null,
   "metadata": {},
   "outputs": [],
   "source": [
    "lateral_acc = Test1_5m[4][2]\n",
    "print(lateral_acc)\n",
    "t1 = Test1_5m[4][3]\n",
    "print(t1)\n",
    "lateral_acc1 = Gy(lateral_acc)*9.81\n",
    "print(lateral_acc1)\n",
    "\n",
    "fft_vals = fft(lateral_acc1)\n",
    "fft_freq = np.fft.fftfreq(len(lateral_acc1), d=(t1[1] - t1[0])) \n",
    "\n",
    "threshold = 10 \n",
    "fft_vals_filtered = np.where(np.abs(fft_freq) > threshold, 0, fft_vals)\n",
    "\n",
    "lateral_acc1_smoothed = np.real(ifft(fft_vals_filtered))\n",
    "\n",
    "\n",
    "start = 20\n",
    "end = 85\n",
    "\n",
    "time_mask = (t1 >= start) & (t1 <= end)\n",
    "t1_filtered = t1[time_mask]\n",
    "lateral_acc1_raw = lateral_acc1[time_mask]\n",
    "lateral_acc1_filtered = lateral_acc1_smoothed[time_mask]\n",
    "\n",
    "plt.figure(figsize=(16, 10))\n",
    "plt.plot(t1_filtered, lateral_acc1_raw, label='Test 1 Lateral Acceleration Unfiltered CRT 5m CCW',color = 'blue')\n",
    "plt.plot(t1_filtered, lateral_acc1_filtered, label='Test 1 Lateral Acceleration Filtered CRT 5m CCW',color='orange')\n",
    "plt.legend()\n",
    "plt.xlabel('Time [s]')\n",
    "plt.ylabel('Lateral Acceleration [m/s^2]')\n",
    "plt.grid()\n",
    "plt.show()"
   ]
  },
  {
   "cell_type": "markdown",
   "metadata": {},
   "source": [
    "# Wheel speed during Test 1"
   ]
  },
  {
   "cell_type": "code",
   "execution_count": null,
   "metadata": {},
   "outputs": [],
   "source": [
    "RTR_V1 = Test1_5m[7][2]\n",
    "print(RTR_V1)\n",
    "t1 = Test1_5m[7][3]\n",
    "print(t1)\n",
    "Wheel_Spd_1_Conv = RTR_V1*2*np.pi*rollrad\n",
    "\n",
    "fft_vals = fft(Wheel_Spd_1_Conv)\n",
    "fft_freq = np.fft.fftfreq(len(Wheel_Spd_1_Conv), d=(t1[1] - t1[0])) \n",
    "\n",
    "threshold = 3\n",
    "fft_vals_filtered = np.where(np.abs(fft_freq) > threshold, 0, fft_vals)\n",
    "\n",
    "VS1_smoothed = np.real(ifft(fft_vals_filtered))\n",
    "\n",
    "\n",
    "start = 20\n",
    "end = 85\n",
    "\n",
    "time_mask = (t1 >= start) & (t1 <= end)\n",
    "t1_filtered = t1[time_mask]\n",
    "VS1_raw = Wheel_Spd_1_Conv[time_mask]\n",
    "VS1_filtered = VS1_smoothed[time_mask]\n",
    "\n",
    "plt.figure(figsize=(16, 10))\n",
    "plt.plot(t1_filtered, VS1_raw, label='Test 1 Vehicle Speed Unfiltered CRT 5m CCW',color = 'blue')\n",
    "plt.plot(t1_filtered, VS1_filtered, label='Test 1 Vehicle Speed Filtered CRT 5m CCW',color='orange')\n",
    "plt.legend()\n",
    "plt.xlabel('Time [s]')\n",
    "plt.ylabel('vehicle speed [m/s]')\n",
    "plt.grid()\n",
    "plt.show()"
   ]
  },
  {
   "cell_type": "code",
   "execution_count": null,
   "metadata": {},
   "outputs": [],
   "source": [
    "plt.figure(figsize=(16, 10))\n",
    "plt.plot(VS1_raw, steer1_raw, label='Test 1 Steering Angles vs Vehicle Speed Unfiltered CRT 5m CCW',color = 'blue')\n",
    "plt.plot(VS1_filtered, steer1_filtered, label='Test 1 Steering Angles vs Vehicle Speed Filtered CRT 5m CCW',color = 'Orange')\n",
    "plt.legend()\n",
    "plt.xlabel('Vehicle Velocity [m/s]')\n",
    "plt.ylabel('Steering angle [degrees]')\n",
    "plt.grid()\n",
    "plt.show()"
   ]
  },
  {
   "cell_type": "markdown",
   "metadata": {},
   "source": [
    "# Test 2:"
   ]
  },
  {
   "cell_type": "markdown",
   "metadata": {},
   "source": [
    "# Polaris CV joints 5m Constant Radius Test CCW Test 2"
   ]
  },
  {
   "cell_type": "code",
   "execution_count": null,
   "metadata": {
    "scrolled": true
   },
   "outputs": [],
   "source": [
    "Test2_5m = readV3('C:\\\\Users\\\\Rialdo\\\\Desktop\\\\Rialdo Roeloffze Student\\\\Semester 2 2024\\\\MRN 422\\\\Experimental Data\\\\Constant Radius Tests 2024-10-24\\\\Test2 Neutral 5m.bin')"
   ]
  },
  {
   "cell_type": "markdown",
   "metadata": {},
   "source": [
    "# Steering angle vs time 5m CCW for Test 2"
   ]
  },
  {
   "cell_type": "code",
   "execution_count": null,
   "metadata": {},
   "outputs": [],
   "source": [
    "Vrack = Test2_5m[0][2]\n",
    "Vrack_adj = Vrack - 0.043\n",
    "print(Vrack)\n",
    "print(Vrack_adj)\n",
    "t2 = Test2_5m[0][3]\n",
    "print(t2)\n",
    "\n",
    "rack_disp = Vtodisp(Vrack_adj)\n",
    "print(rack_disp)\n",
    "steer2 = np.rad2deg(AAngle(theta_w(rack_disp))) \n",
    "print(steer2)\n",
    "\n",
    "fft_vals = fft(steer2)\n",
    "fft_freq = np.fft.fftfreq(len(steer2), d=(t2[1] - t2[0])) \n",
    "\n",
    "threshold = 50 \n",
    "fft_vals_filtered = np.where(np.abs(fft_freq) > threshold, 0, fft_vals)\n",
    "\n",
    "steer2_smoothed = np.real(ifft(fft_vals_filtered))\n",
    "\n",
    "\n",
    "start = 0.1 \n",
    "end = 58.1\n",
    "\n",
    "time_mask = (t2 >= start) & (t2 <= end)\n",
    "t2_filtered = t2[time_mask]\n",
    "steer2_raw = steer2[time_mask]\n",
    "steer2_filtered = steer2_smoothed[time_mask]\n",
    "\n",
    "plt.figure(figsize=(16, 10))\n",
    "plt.plot(t2_filtered, steer2_raw, label='Test 2 Steering Angles Unfiltered CRT 5m CCW',color = 'green')\n",
    "plt.plot(t2_filtered, steer2_filtered, label='Test 2 Steering Angles Filtered CRT 5m CCW',color = 'Orange')\n",
    "plt.legend()\n",
    "plt.xlabel('Time [s]')\n",
    "plt.ylabel('Steering angle [degrees]')\n",
    "plt.grid()\n",
    "plt.show()"
   ]
  },
  {
   "cell_type": "markdown",
   "metadata": {},
   "source": [
    "# Lateral Acceleration versus time on the same interval 5m for Test 2"
   ]
  },
  {
   "cell_type": "code",
   "execution_count": null,
   "metadata": {},
   "outputs": [],
   "source": [
    "lateral_acc = Test2_5m[4][2]\n",
    "print(lateral_acc)\n",
    "t2 = Test2_5m[4][3]\n",
    "print(t2)\n",
    "lateral_acc2 = Gy(lateral_acc)*9.81\n",
    "print(lateral_acc2)\n",
    "\n",
    "fft_vals = fft(lateral_acc2)\n",
    "fft_freq = np.fft.fftfreq(len(lateral_acc2), d=(t2[1] - t2[0])) \n",
    "\n",
    "threshold = 5 \n",
    "fft_vals_filtered = np.where(np.abs(fft_freq) > threshold, 0, fft_vals)\n",
    "\n",
    "lateral_acc2_smoothed = np.real(ifft(fft_vals_filtered))\n",
    "\n",
    "\n",
    "start = 0.1\n",
    "end = 58.1\n",
    "\n",
    "time_mask = (t2 >= start) & (t2 <= end)\n",
    "t2_filtered = t2[time_mask]\n",
    "lateral_acc2_raw = lateral_acc2[time_mask]\n",
    "lateral_acc2_filtered = lateral_acc2_smoothed[time_mask]\n",
    "\n",
    "plt.figure(figsize=(16, 10))\n",
    "plt.plot(t2_filtered, lateral_acc2_raw, label='Test 2 Lateral Acceleration Unfiltered CRT 5m CCW',color = 'green')\n",
    "plt.plot(t2_filtered, lateral_acc2_filtered, label='Test 2 Lateral Acceleration Filtered CRT 5m CCW',color='orange')\n",
    "plt.legend()\n",
    "plt.xlabel('Time [s]')\n",
    "plt.ylabel('Lateral Acceleration [m/s^2]')\n",
    "plt.grid()\n",
    "plt.show()"
   ]
  },
  {
   "cell_type": "markdown",
   "metadata": {},
   "source": [
    "# Wheel speed during Test 2"
   ]
  },
  {
   "cell_type": "code",
   "execution_count": null,
   "metadata": {},
   "outputs": [],
   "source": [
    "RTR_V2 = Test2_5m[7][2]\n",
    "print(RTR_V2)\n",
    "t2 = Test2_5m[7][3]\n",
    "print(t2)\n",
    "Wheel_Spd_2_Conv = RTR_V2*2*np.pi*rollrad\n",
    "\n",
    "fft_vals = fft(Wheel_Spd_2_Conv)\n",
    "fft_freq = np.fft.fftfreq(len(Wheel_Spd_2_Conv), d=(t2[1] - t2[0])) \n",
    "\n",
    "threshold = 4\n",
    "fft_vals_filtered = np.where(np.abs(fft_freq) > threshold, 0, fft_vals)\n",
    "\n",
    "VS2_smoothed = np.real(ifft(fft_vals_filtered))\n",
    "\n",
    "\n",
    "start = 0.1\n",
    "end = 58.1\n",
    "\n",
    "time_mask = (t2 >= start) & (t2 <= end)\n",
    "t2_filtered = t2[time_mask]\n",
    "VS2_raw = Wheel_Spd_2_Conv[time_mask]\n",
    "VS2_filtered = VS2_smoothed[time_mask]\n",
    "\n",
    "plt.figure(figsize=(16, 10))\n",
    "plt.plot(t2_filtered, VS2_raw, label='Test 2 Vehicle Speed Unfiltered CRT 5m CCW',color = 'green')\n",
    "plt.plot(t2_filtered, VS2_filtered, label='Test 2 Vehicle Speed Filtered CRT 5m CCW',color='orange')\n",
    "plt.legend()\n",
    "plt.xlabel('Time [s]')\n",
    "plt.ylabel('vehicle speed [m/s]')\n",
    "plt.grid()\n",
    "plt.show()"
   ]
  },
  {
   "cell_type": "code",
   "execution_count": null,
   "metadata": {},
   "outputs": [],
   "source": [
    "plt.figure(figsize=(16, 10))\n",
    "plt.plot(VS2_raw, steer2_raw, label='Test 2 Steering Angles vs Vehicle Speed Unfiltered CRT 5m CCW',color = 'green')\n",
    "plt.plot(VS2_filtered, steer2_filtered, label='Test 2 Steering Angles vs Vehicle Speed Filtered CRT 5m CCW',color = 'Orange')\n",
    "plt.legend()\n",
    "plt.xlabel('Vehicle Velocity [m/s]')\n",
    "plt.ylabel('Steering angle [degrees]')\n",
    "plt.grid()\n",
    "plt.show()"
   ]
  },
  {
   "cell_type": "markdown",
   "metadata": {},
   "source": [
    "# Test 3:"
   ]
  },
  {
   "cell_type": "markdown",
   "metadata": {},
   "source": [
    "# Polaris CV joints 5m Constant Radius Test CCW Test 3"
   ]
  },
  {
   "cell_type": "code",
   "execution_count": null,
   "metadata": {
    "scrolled": true
   },
   "outputs": [],
   "source": [
    "Test3_5m = readV3('C:\\\\Users\\\\Rialdo\\\\Desktop\\\\Rialdo Roeloffze Student\\\\Semester 2 2024\\\\MRN 422\\\\Experimental Data\\\\Constant Radius Tests 2024-10-24\\\\Test3 Neutral 5m.bin')"
   ]
  },
  {
   "cell_type": "markdown",
   "metadata": {},
   "source": [
    "# Steering angle vs time 5m CCW for Test 3"
   ]
  },
  {
   "cell_type": "code",
   "execution_count": null,
   "metadata": {},
   "outputs": [],
   "source": [
    "Vrack = Test3_5m[0][2]\n",
    "Vrack_adj = Vrack - 0.043\n",
    "print(Vrack)\n",
    "print(Vrack_adj)\n",
    "t3 = Test3_5m[0][3]\n",
    "print(t3)\n",
    "\n",
    "rack_disp = Vtodisp(Vrack_adj)\n",
    "print(rack_disp)\n",
    "steer3 = np.rad2deg(AAngle(theta_w(rack_disp))) \n",
    "print(steer3)\n",
    "\n",
    "fft_vals = fft(steer3)\n",
    "fft_freq = np.fft.fftfreq(len(steer3), d=(t3[1] - t3[0])) \n",
    "\n",
    "threshold = 50 \n",
    "fft_vals_filtered = np.where(np.abs(fft_freq) > threshold, 0, fft_vals)\n",
    "\n",
    "steer3_smoothed = np.real(ifft(fft_vals_filtered))\n",
    "\n",
    "\n",
    "start = 0.1 \n",
    "end = 75.3\n",
    "\n",
    "time_mask = (t3 >= start) & (t3 <= end)\n",
    "t3_filtered = t3[time_mask]\n",
    "steer3_raw = steer3[time_mask]\n",
    "steer3_filtered = steer3_smoothed[time_mask]\n",
    "\n",
    "plt.figure(figsize=(16, 10))\n",
    "plt.plot(t3_filtered, steer3_raw, label='Test 3 Steering Angles Unfiltered CRT 5m CCW',color = 'indigo')\n",
    "plt.plot(t3_filtered, steer3_filtered, label='Test 3 Steering Angles Filtered CRT 5m CCW',color = 'Orange')\n",
    "plt.legend()\n",
    "plt.xlabel('Time [s]')\n",
    "plt.ylabel('Steering angle [degrees]')\n",
    "plt.grid()\n",
    "plt.show()"
   ]
  },
  {
   "cell_type": "markdown",
   "metadata": {},
   "source": [
    "# Lateral Acceleration versus time on the same interval 5m for Test 1"
   ]
  },
  {
   "cell_type": "code",
   "execution_count": null,
   "metadata": {},
   "outputs": [],
   "source": [
    "lateral_acc = Test3_5m[4][2]\n",
    "print(lateral_acc)\n",
    "t3 = Test3_5m[4][3]\n",
    "print(t3)\n",
    "lateral_acc3 = Gy(lateral_acc)*9.81\n",
    "print(lateral_acc3)\n",
    "\n",
    "fft_vals = fft(lateral_acc3)\n",
    "fft_freq = np.fft.fftfreq(len(lateral_acc3), d=(t3[1] - t3[0])) \n",
    "\n",
    "threshold = 5 \n",
    "fft_vals_filtered = np.where(np.abs(fft_freq) > threshold, 0, fft_vals)\n",
    "\n",
    "lateral_acc3_smoothed = np.real(ifft(fft_vals_filtered))\n",
    "\n",
    "\n",
    "start = 0.1\n",
    "end = 75.3\n",
    "\n",
    "time_mask = (t3 >= start) & (t3 <= end)\n",
    "t3_filtered = t3[time_mask]\n",
    "lateral_acc3_raw = lateral_acc3[time_mask]\n",
    "lateral_acc3_filtered = lateral_acc3_smoothed[time_mask]\n",
    "\n",
    "plt.figure(figsize=(16, 10))\n",
    "plt.plot(t3_filtered, lateral_acc3_raw, label='Test 3 Lateral Acceleration Unfiltered CRT 5m CCW',color = 'indigo')\n",
    "plt.plot(t3_filtered, lateral_acc3_filtered, label='Test 3 Lateral Acceleration Voltage CRT 5m CCW',color='orange')\n",
    "plt.legend()\n",
    "plt.xlabel('Time [s]')\n",
    "plt.ylabel('Lateral Acceleration [m/s^2]')\n",
    "plt.grid()\n",
    "plt.show()"
   ]
  },
  {
   "cell_type": "markdown",
   "metadata": {},
   "source": [
    "# Wheel speed during Test 3"
   ]
  },
  {
   "cell_type": "code",
   "execution_count": null,
   "metadata": {},
   "outputs": [],
   "source": [
    "RTR_V3 = Test3_5m[7][2]\n",
    "print(RTR_V3)\n",
    "t3 = Test3_5m[7][3]\n",
    "print(t3)\n",
    "Wheel_Spd_3_Conv = RTR_V3*2*np.pi*rollrad\n",
    "\n",
    "fft_vals = fft(Wheel_Spd_3_Conv)\n",
    "fft_freq = np.fft.fftfreq(len(Wheel_Spd_3_Conv), d=(t3[1] - t3[0])) \n",
    "\n",
    "threshold = 4\n",
    "fft_vals_filtered = np.where(np.abs(fft_freq) > threshold, 0, fft_vals)\n",
    "\n",
    "VS3_smoothed = np.real(ifft(fft_vals_filtered))\n",
    "\n",
    "\n",
    "start = 0.1\n",
    "end = 75.3\n",
    "\n",
    "time_mask = (t3 >= start) & (t3 <= end)\n",
    "t3_filtered = t3[time_mask]\n",
    "VS3_raw = Wheel_Spd_3_Conv[time_mask]\n",
    "VS3_filtered = VS3_smoothed[time_mask]\n",
    "\n",
    "plt.figure(figsize=(16, 10))\n",
    "plt.plot(t3_filtered, VS3_raw, label='Test 3 Vehicle Speed Unfiltered CRT 5m CCW',color = 'indigo')\n",
    "plt.plot(t3_filtered, VS3_filtered, label='Test 3 Vehicle Speed Filtered CRT 5m CCW',color='orange')\n",
    "plt.legend()\n",
    "plt.xlabel('Time [s]')\n",
    "plt.ylabel('vehicle speed [m/s]')\n",
    "plt.grid()\n",
    "plt.show()"
   ]
  },
  {
   "cell_type": "code",
   "execution_count": null,
   "metadata": {},
   "outputs": [],
   "source": [
    "plt.figure(figsize=(16, 10))\n",
    "plt.plot(VS3_raw, steer3_raw, label='Test 3 Steering Angles vs Vehicle Speed Unfiltered CRT 5m CCW',color = 'indigo')\n",
    "plt.plot(VS3_filtered, steer3_filtered, label='Test 3 Steering Angles vs Vehicle Speed Filtered CRT 5m CCW',color = 'Orange')\n",
    "plt.legend()\n",
    "plt.xlabel('Vehicle Velocity [m/s]')\n",
    "plt.ylabel('Steering angle [degrees]')\n",
    "plt.grid()\n",
    "plt.show()"
   ]
  },
  {
   "cell_type": "markdown",
   "metadata": {},
   "source": [
    "# Experimental understeer coefficient"
   ]
  },
  {
   "attachments": {
    "%7BA9AC3051-348C-48D3-B831-0FBC3F6F7D47%7D.png": {
     "image/png": "[encoded data removed]"
    }
   },
   "cell_type": "markdown",
   "metadata": {},
   "source": [
    "![%7BA9AC3051-348C-48D3-B831-0FBC3F6F7D47%7D.png](attachment:%7BA9AC3051-348C-48D3-B831-0FBC3F6F7D47%7D.png)"
   ]
  },
  {
   "cell_type": "markdown",
   "metadata": {},
   "source": [
    "# Trying some things"
   ]
  },
  {
   "cell_type": "code",
   "execution_count": null,
   "metadata": {},
   "outputs": [],
   "source": [
    "start = 27.3\n",
    "end = 81\n",
    "R_value = 5+(track/2)\n",
    "g_value = 9.81\n",
    "\n",
    "time_mask = (t1 >= start) & (t1 <= end)\n",
    "t1_filtered = t1[time_mask]\n",
    "\n",
    "VS1_raw = Wheel_Spd_1_Conv[time_mask]\n",
    "VS1_filtered = VS1_smoothed[time_mask]\n",
    "\n",
    "steer1_raw = steer1[time_mask]\n",
    "steer1_filtered = steer1_smoothed[time_mask]\n",
    "\n",
    "\n",
    "plt.figure(figsize=(16, 10))\n",
    "plt.plot(VS1_raw,steer1_raw, label='Test 1 Unfiltered Ackermann Angle vs Vehicle Speed',color = 'blue')\n",
    "plt.plot(VS1_filtered,steer1_filtered, label='Test 1 Filtered Ackermann Angle vs Vehicle Speed',color = 'Orange')\n",
    "plt.legend()\n",
    "plt.xlabel('Vehicle speed [m/s]')\n",
    "plt.ylabel('Ackermann Steering Angle [deg]')\n",
    "plt.grid()\n",
    "plt.show()"
   ]
  },
  {
   "cell_type": "code",
   "execution_count": null,
   "metadata": {},
   "outputs": [],
   "source": [
    "start = 27.3\n",
    "end = 81\n",
    "\n",
    "time_mask = (t1 >= start) & (t1 <= end)\n",
    "t1_filtered = t1[time_mask]\n",
    "\n",
    "VS1_raw = Wheel_Spd_1_Conv[time_mask]\n",
    "VS1_filtered = VS1_smoothed[time_mask]\n",
    "\n",
    "steer1_raw = steer1[time_mask]\n",
    "steer1_filtered = steer1_smoothed[time_mask]\n",
    "\n",
    "al1_raw = (VS1_raw**2)/(R_value*g_value)\n",
    "al1_filtered = (VS1_filtered**2)/(R_value*g_value)\n",
    "\n",
    "plt.figure(figsize=(16, 10))\n",
    "plt.plot(al1_raw,steer1_raw, label='Test 1 Unfiltered Ackermann Angle vs Vehicle Lateral Acceleration',color = 'blue')\n",
    "plt.plot(al1_filtered,steer1_filtered, label='Test 1 Unfiltered Ackermann Angle vs Lateral Acceleration',color = 'Orange')\n",
    "plt.legend()\n",
    "plt.xlabel('Vehicle Lateral Acceleration [g]')\n",
    "plt.ylabel('Ackermann Steering Angle [deg]')\n",
    "plt.grid()\n",
    "plt.show()"
   ]
  },
  {
   "cell_type": "markdown",
   "metadata": {},
   "source": [
    "# Test 1"
   ]
  },
  {
   "cell_type": "code",
   "execution_count": null,
   "metadata": {
    "scrolled": true
   },
   "outputs": [],
   "source": [
    "start = 27.3\n",
    "end = 81\n",
    "time_mask = (t1 >= start) & (t1 <= end)\n",
    "\n",
    "t1_filtered = t1[time_mask]\n",
    "VS1_raw = Wheel_Spd_1_Conv[time_mask]\n",
    "VS1_filtered = VS1_smoothed[time_mask]\n",
    "steer1_raw = steer1[time_mask]\n",
    "steer1_filtered = steer1_smoothed[time_mask]\n",
    "\n",
    "al1_raw = (VS1_raw**2) / (R_value * g_value)\n",
    "al1_filtered = (VS1_filtered**2) / (R_value * g_value)\n",
    "\n",
    "coefficients = np.polyfit(al1_raw, steer1_raw, 2)\n",
    "qt1 = np.poly1d(coefficients)\n",
    "\n",
    "al1_range = np.linspace(min(al1_raw), max(al1_raw), 10000)\n",
    "tval1 = qt1(al1_range)\n",
    "\n",
    "plt.figure(figsize=(16, 10))\n",
    "plt.plot(al1_raw, steer1_raw, label='Test 1 Unfiltered Ackermann Angle vs Vehicle Lateral Acceleration', color='blue')\n",
    "plt.plot(al1_filtered, steer1_filtered, label='Test 1 Filtered Ackermann Angle vs Vehicle Lateral Acceleration', color='orange')\n",
    "plt.plot(al1_range, tval1, label=f'Quadratic Trendline: {coefficients[0]:.3f}*x^2 + {coefficients[1]:.3f}*x + {coefficients[2]:.3f}', color='black')\n",
    "\n",
    "plt.legend()\n",
    "plt.xlabel('Vehicle Lateral Acceleration [g]')\n",
    "plt.ylabel('Ackermann Steering Angle [deg]')\n",
    "plt.grid()\n",
    "plt.show()\n",
    "\n",
    "print(\"Quadratic Trendline Coefficients:\")\n",
    "print(f\"a (x^2 term): {coefficients[0]:.3e}\")\n",
    "print(f\"b (x term): {coefficients[1]:.3e}\")\n",
    "print(f\"c (constant term): {coefficients[2]:.3e}\")"
   ]
  },
  {
   "cell_type": "code",
   "execution_count": null,
   "metadata": {
    "scrolled": true
   },
   "outputs": [],
   "source": [
    "start = 29.2\n",
    "end = 81\n",
    "time_mask = (t1 >= start) & (t1 <= end)\n",
    "\n",
    "t1_filtered = t1[time_mask]\n",
    "VS1_raw = Wheel_Spd_1_Conv[time_mask]\n",
    "VS1_filtered = VS1_smoothed[time_mask]\n",
    "steer1_raw = steer1[time_mask]\n",
    "steer1_filtered = steer1_smoothed[time_mask]\n",
    "\n",
    "al1_raw = (VS1_raw**2) / (R_value * g_value)\n",
    "al1_filtered = (VS1_filtered**2) / (R_value * g_value)\n",
    "\n",
    "coefficients = np.polyfit(al1_raw, steer1_raw, 2)\n",
    "qt1 = np.poly1d(coefficients)\n",
    "\n",
    "al1_range = np.linspace(min(al1_raw), max(al1_raw), 10000)\n",
    "tval1 = qt1(al1_range)\n",
    "\n",
    "plt.figure(figsize=(16, 10))\n",
    "plt.plot(al1_raw, steer1_raw, label='Test 1 Unfiltered Ackermann Angle vs Vehicle Lateral Acceleration', color='blue')\n",
    "plt.plot(al1_filtered, steer1_filtered, label='Test 1 Filtered Ackermann Angle vs Vehicle Lateral Acceleration', color='orange')\n",
    "plt.plot(al1_range, tval1, label=f'Quadratic Trendline: {coefficients[0]:.3f}*x^2 + {coefficients[1]:.3f}*x + {coefficients[2]:.3f}', color='black')\n",
    "\n",
    "plt.legend()\n",
    "plt.xlabel('Vehicle Lateral Acceleration [g]')\n",
    "plt.ylabel('Ackermann Steering Angle [deg]')\n",
    "plt.grid()\n",
    "plt.show()\n",
    "\n",
    "print(\"Quadratic Trendline Coefficients:\")\n",
    "print(f\"a (x^2 term): {coefficients[0]:.3e}\")\n",
    "print(f\"b (x term): {coefficients[1]:.3e}\")\n",
    "print(f\"c (constant term): {coefficients[2]:.3e}\")"
   ]
  },
  {
   "cell_type": "code",
   "execution_count": null,
   "metadata": {},
   "outputs": [],
   "source": [
    "print(qt1)\n",
    "\n",
    "qd1 = qt1.deriv()\n",
    "print(qd1)\n",
    "\n",
    "al1_range = np.linspace(min(al1_raw), max(al1_raw), 10000)\n",
    "derval1 = qd1(al1_range)\n",
    "\n",
    "plt.figure(figsize=(16, 10))\n",
    "plt.plot(al1_range, derval1, label=f'Derivative of Quadratic Trendline 1: {qd1}', color='black')\n",
    "plt.xlabel('Vehicle Lateral Acceleration [g]')\n",
    "plt.ylabel('Understeer Coefficient [deg/g]')\n",
    "plt.title('Understeer Coefficient vs Vehicle Lateral Acceleration')\n",
    "plt.legend()\n",
    "plt.grid()\n",
    "plt.show()"
   ]
  },
  {
   "cell_type": "markdown",
   "metadata": {},
   "source": [
    "# Test 2"
   ]
  },
  {
   "cell_type": "code",
   "execution_count": null,
   "metadata": {},
   "outputs": [],
   "source": [
    "start = 7\n",
    "end = 57\n",
    "time_mask = (t2 >= start) & (t2 <= end)\n",
    "\n",
    "t2_filtered = t2[time_mask]\n",
    "VS2_raw = Wheel_Spd_2_Conv[time_mask]\n",
    "VS2_filtered = VS2_smoothed[time_mask]\n",
    "steer2_raw = steer2[time_mask]\n",
    "steer2_filtered = steer2_smoothed[time_mask]\n",
    "\n",
    "al2_raw = (VS2_raw**2) / (R_value * g_value)\n",
    "al2_filtered = (VS2_filtered**2) / (R_value * g_value)\n",
    "\n",
    "coefficients = np.polyfit(al2_raw, steer2_raw, 2)\n",
    "qt2 = np.poly1d(coefficients)\n",
    "\n",
    "al2_range = np.linspace(min(al2_raw), max(al2_raw), 10000)\n",
    "tval2 = qt2(al2_range)\n",
    "\n",
    "plt.figure(figsize=(16, 10))\n",
    "plt.plot(al2_raw, steer2_raw, label='Test 2 Unfiltered Ackermann Angle vs Vehicle Lateral Acceleration', color='green')\n",
    "plt.plot(al2_filtered, steer2_filtered, label='Test 2 Filtered Ackermann Angle vs Vehicle Lateral Acceleration', color='orange')\n",
    "plt.plot(al2_range, tval2, label=f'Quadratic Trendline: {coefficients[0]:.3f}*x^2 + {coefficients[1]:.3f}*x + {coefficients[2]:.3f}', color='black')\n",
    "\n",
    "plt.legend()\n",
    "plt.xlabel('Vehicle Lateral Acceleration [g]')\n",
    "plt.ylabel('Ackermann Steering Angle [deg]')\n",
    "plt.grid()\n",
    "plt.show()\n",
    "\n",
    "print(\"Quadratic Trendline Coefficients:\")\n",
    "print(f\"a (x^2 term): {coefficients[0]:.3e}\")\n",
    "print(f\"b (x term): {coefficients[1]:.3e}\")\n",
    "print(f\"c (constant term): {coefficients[2]:.3e}\")"
   ]
  },
  {
   "cell_type": "code",
   "execution_count": null,
   "metadata": {},
   "outputs": [],
   "source": [
    "start = 9.1\n",
    "end = 57\n",
    "time_mask = (t2 >= start) & (t2 <= end)\n",
    "\n",
    "t2_filtered = t2[time_mask]\n",
    "VS2_raw = Wheel_Spd_2_Conv[time_mask]\n",
    "VS2_filtered = VS2_smoothed[time_mask]\n",
    "steer2_raw = steer2[time_mask]\n",
    "steer2_filtered = steer2_smoothed[time_mask]\n",
    "\n",
    "al2_raw = (VS2_raw**2) / (R_value * g_value)\n",
    "al2_filtered = (VS2_filtered**2) / (R_value * g_value)\n",
    "\n",
    "coefficients = np.polyfit(al2_raw, steer2_raw, 2)\n",
    "qt2 = np.poly1d(coefficients)\n",
    "\n",
    "al2_range = np.linspace(min(al2_raw), max(al2_raw), 10000)\n",
    "tval2 = qt2(al2_range)\n",
    "\n",
    "plt.figure(figsize=(16, 10))\n",
    "plt.plot(al2_raw, steer2_raw, label='Test 2 Unfiltered Ackermann Angle vs Vehicle Lateral Acceleration', color='green')\n",
    "plt.plot(al2_filtered, steer2_filtered, label='Test 2 Filtered Ackermann Angle vs Vehicle Lateral Acceleration', color='orange')\n",
    "plt.plot(al2_range, tval2, label=f'Quadratic Trendline: {coefficients[0]:.3f}*x^2 + {coefficients[1]:.3f}*x + {coefficients[2]:.3f}', color='black')\n",
    "\n",
    "plt.legend()\n",
    "plt.xlabel('Vehicle Lateral Acceleration [g]')\n",
    "plt.ylabel('Ackermann Steering Angle [deg]')\n",
    "plt.grid()\n",
    "plt.show()\n",
    "\n",
    "print(\"Quadratic Trendline Coefficients:\")\n",
    "print(f\"a (x^2 term): {coefficients[0]:.3e}\")\n",
    "print(f\"b (x term): {coefficients[1]:.3e}\")\n",
    "print(f\"c (constant term): {coefficients[2]:.3e}\")"
   ]
  },
  {
   "cell_type": "code",
   "execution_count": null,
   "metadata": {},
   "outputs": [],
   "source": [
    "print(qt2)\n",
    "\n",
    "qd2 = qt2.deriv()\n",
    "print(qd2)\n",
    "\n",
    "al2_range = np.linspace(min(al2_raw), max(al2_raw), 10000)\n",
    "derval2 = qd2(al2_range)\n",
    "\n",
    "plt.figure(figsize=(16, 10))\n",
    "plt.plot(al2_range, derval2, label=f'Derivative of Quadratic Trendline 2: {qd2}', color='black')\n",
    "plt.xlabel('Vehicle Lateral Acceleration [g]')\n",
    "plt.ylabel('Understeer Coefficient [deg/g]')\n",
    "plt.title('Understeer Coefficient vs Vehicle Lateral Acceleration')\n",
    "plt.legend()\n",
    "plt.grid()\n",
    "plt.show()"
   ]
  },
  {
   "cell_type": "markdown",
   "metadata": {},
   "source": [
    "# Test 3"
   ]
  },
  {
   "cell_type": "code",
   "execution_count": null,
   "metadata": {},
   "outputs": [],
   "source": [
    "start = 6.4\n",
    "end = 72\n",
    "time_mask = (t3 >= start) & (t3 <= end)\n",
    "\n",
    "t3_filtered = t3[time_mask]\n",
    "VS3_raw = Wheel_Spd_3_Conv[time_mask]\n",
    "VS3_filtered = VS3_smoothed[time_mask]\n",
    "steer3_raw = steer3[time_mask]\n",
    "steer3_filtered = steer3_smoothed[time_mask]\n",
    "\n",
    "al3_raw = (VS3_raw**2) / (R_value * g_value)\n",
    "al3_filtered = (VS3_filtered**2) / (R_value * g_value)\n",
    "\n",
    "coefficients = np.polyfit(al3_raw, steer3_raw, 2)\n",
    "qt3 = np.poly1d(coefficients)\n",
    "\n",
    "al3_range = np.linspace(min(al3_raw), max(al3_raw), 10000)\n",
    "tval3 = qt3(al3_range)\n",
    "\n",
    "plt.figure(figsize=(16, 10))\n",
    "plt.plot(al3_raw, steer3_raw, label='Test 3 Unfiltered Ackermann Angle vs Vehicle Lateral Acceleration', color='indigo')\n",
    "plt.plot(al3_filtered, steer3_filtered, label='Test 3 Filtered Ackermann Angle vs Vehicle Lateral Acceleration', color='orange')\n",
    "plt.plot(al3_range, tval3, label=f'Quadratic Trendline: {coefficients[0]:.3f}*x^2 + {coefficients[1]:.3f}*x + {coefficients[2]:.3f}', color='black')\n",
    "\n",
    "plt.legend()\n",
    "plt.xlabel('Vehicle Lateral Acceleration [g]')\n",
    "plt.ylabel('Ackermann Steering Angle [deg]')\n",
    "plt.grid()\n",
    "plt.show()\n",
    "\n",
    "print(\"Quadratic Trendline Coefficients:\")\n",
    "print(f\"a (x^2 term): {coefficients[0]:.3e}\")\n",
    "print(f\"b (x term): {coefficients[1]:.3e}\")\n",
    "print(f\"c (constant term): {coefficients[2]:.3e}\")"
   ]
  },
  {
   "cell_type": "code",
   "execution_count": null,
   "metadata": {},
   "outputs": [],
   "source": [
    "start = 8.7\n",
    "end = 73\n",
    "time_mask = (t3 >= start) & (t3 <= end)\n",
    "\n",
    "t3_filtered = t3[time_mask]\n",
    "VS3_raw = Wheel_Spd_3_Conv[time_mask]\n",
    "VS3_filtered = VS3_smoothed[time_mask]\n",
    "steer3_raw = steer3[time_mask]\n",
    "steer3_filtered = steer3_smoothed[time_mask]\n",
    "\n",
    "al3_raw = (VS3_raw**2) / (R_value * g_value)\n",
    "al3_filtered = (VS3_filtered**2) / (R_value * g_value)\n",
    "\n",
    "coefficients = np.polyfit(al3_raw, steer3_raw, 2)\n",
    "qt3 = np.poly1d(coefficients)\n",
    "\n",
    "al3_range = np.linspace(min(al3_raw), max(al3_raw), 10000)\n",
    "tval3 = qt3(al3_range)\n",
    "\n",
    "plt.figure(figsize=(16, 10))\n",
    "plt.plot(al3_raw, steer3_raw, label='Test 3 Unfiltered Ackermann Angle vs Vehicle Lateral Acceleration', color='indigo')\n",
    "plt.plot(al3_filtered, steer3_filtered, label='Test 3 Filtered Ackermann Angle vs Vehicle Lateral Acceleration', color='orange')\n",
    "plt.plot(al3_range, tval3, label=f'Quadratic Trendline: {coefficients[0]:.3f}*x^2 + {coefficients[1]:.3f}*x + {coefficients[2]:.3f}', color='black')\n",
    "\n",
    "plt.legend()\n",
    "plt.xlabel('Vehicle Lateral Acceleration [g]')\n",
    "plt.ylabel('Ackermann Steering Angle [deg]')\n",
    "plt.grid()\n",
    "plt.show()\n",
    "\n",
    "print(\"Quadratic Trendline Coefficients:\")\n",
    "print(f\"a (x^2 term): {coefficients[0]:.3e}\")\n",
    "print(f\"b (x term): {coefficients[1]:.3e}\")\n",
    "print(f\"c (constant term): {coefficients[2]:.3e}\")"
   ]
  },
  {
   "cell_type": "code",
   "execution_count": null,
   "metadata": {},
   "outputs": [],
   "source": [
    "print(qt3)\n",
    "\n",
    "qd3 = qt3.deriv()\n",
    "print(qd3)\n",
    "\n",
    "al3_range = np.linspace(min(al3_raw), max(al3_raw), 10000)\n",
    "derval3 = qd3(al3_range)\n",
    "\n",
    "plt.figure(figsize=(16, 10))\n",
    "plt.plot(al3_range, derval3, label=f'Derivative of Quadratic Trendline 3: {qd3}', color='black')\n",
    "plt.xlabel('Vehicle Lateral Acceleration [g]')\n",
    "plt.ylabel('Understeer Coefficient [deg/g]')\n",
    "plt.title('Understeer Coefficient vs Vehicle Lateral Acceleration')\n",
    "plt.legend()\n",
    "plt.grid()\n",
    "plt.show()"
   ]
  },
  {
   "cell_type": "markdown",
   "metadata": {},
   "source": [
    "# All together"
   ]
  },
  {
   "cell_type": "markdown",
   "metadata": {},
   "source": [
    "# Raw Ackermann Angle vs Lateral Acceleration for test 1, test 2 and test 3"
   ]
  },
  {
   "cell_type": "code",
   "execution_count": null,
   "metadata": {},
   "outputs": [],
   "source": [
    "plt.figure(figsize=(16, 10))\n",
    "\n",
    "plt.plot(al1_raw, steer1_raw, label='Test 1 Unfiltered Ackermann Angle vs Vehicle Lateral Acceleration', color='blue')\n",
    "\n",
    "plt.plot(al2_raw, steer2_raw, label='Test 2 Unfiltered Ackermann Angle vs Vehicle Lateral Acceleration', color='green')\n",
    "\n",
    "plt.plot(al3_raw, steer3_raw, label='Test 3 Unfiltered Ackermann Angle vs Vehicle Lateral Acceleration', color='indigo')\n",
    "\n",
    "plt.legend()\n",
    "plt.xlabel('Vehicle Lateral Acceleration [g]')\n",
    "plt.ylabel('Ackermann Steering Angle [deg]')\n",
    "plt.grid()\n",
    "plt.show()"
   ]
  },
  {
   "cell_type": "markdown",
   "metadata": {},
   "source": [
    "# Quadratic Trendlines for test 1, test 2 and test 3"
   ]
  },
  {
   "cell_type": "code",
   "execution_count": null,
   "metadata": {},
   "outputs": [],
   "source": [
    "plt.figure(figsize=(16, 10))\n",
    "\n",
    "plt.plot(al1_range, tval1, label=f'Quadratic Trendline: {coefficients[0]:.3f}*x^2 + {coefficients[1]:.3f}*x + {coefficients[2]:.3f}', color='blue')\n",
    "\n",
    "plt.plot(al2_range, tval2, label=f'Quadratic Trendline: {coefficients[0]:.3f}*x^2 + {coefficients[1]:.3f}*x + {coefficients[2]:.3f}', color='green')\n",
    "\n",
    "plt.plot(al3_range, tval3, label=f'Quadratic Trendline: {coefficients[0]:.3f}*x^2 + {coefficients[1]:.3f}*x + {coefficients[2]:.3f}', color='indigo')\n",
    "\n",
    "plt.legend()\n",
    "plt.xlabel('Vehicle Lateral Acceleration [g]')\n",
    "plt.ylabel('Ackermann Steering Angle [deg]')\n",
    "plt.grid()\n",
    "plt.show()"
   ]
  },
  {
   "cell_type": "markdown",
   "metadata": {},
   "source": [
    "# K values for test 1, test 2 and test 3"
   ]
  },
  {
   "cell_type": "code",
   "execution_count": null,
   "metadata": {},
   "outputs": [],
   "source": [
    "plt.figure(figsize=(16, 10))\n",
    "\n",
    "plt.plot(al1_range, derval1, label=f'Derivative of Quadratic Trendline 1: {qd1}', color='blue')\n",
    "\n",
    "plt.plot(al2_range, derval2, label=f'Derivative of Quadratic Trendline 2: {qd2}', color='green')\n",
    "\n",
    "plt.plot(al3_range, derval3, label=f'Derivative of Quadratic Trendline 3: {qd3}', color='indigo')\n",
    "\n",
    "plt.xlabel('Vehicle Lateral Acceleration [g]')\n",
    "plt.ylabel('Understeer Coefficient [deg/g]')\n",
    "plt.title('Understeer Coefficient vs Vehicle Lateral Acceleration')\n",
    "plt.legend()\n",
    "plt.grid()\n",
    "plt.show()"
   ]
  },
  {
   "cell_type": "code",
   "execution_count": null,
   "metadata": {},
   "outputs": [],
   "source": []
  }
 ],
 "metadata": {
  "kernelspec": {
   "display_name": "Python 3",
   "language": "python",
   "name": "python3"
  },
  "language_info": {
   "codemirror_mode": {
    "name": "ipython",
    "version": 3
   },
   "file_extension": ".py",
   "mimetype": "text/x-python",
   "name": "python",
   "nbconvert_exporter": "python",
   "pygments_lexer": "ipython3",
   "version": "3.8.3"
  }
 },
 "nbformat": 4,
 "nbformat_minor": 4
}
